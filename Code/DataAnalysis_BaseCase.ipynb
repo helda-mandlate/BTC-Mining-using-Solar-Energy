{
 "cells": [
  {
   "cell_type": "markdown",
   "metadata": {},
   "source": [
    "## Data Analysis"
   ]
  },
  {
   "cell_type": "code",
   "execution_count": 688,
   "metadata": {},
   "outputs": [],
   "source": [
    "#Install Packages\n",
    "\n",
    "#!pip install openpyxl\n",
    "#!pip install pandas\n",
    "#!pip install matplotlib\n",
    "#!pip install scipy\n",
    "#!pip install simplejson\n",
    "#!pip install seaborn"
   ]
  },
  {
   "cell_type": "code",
   "execution_count": 689,
   "metadata": {},
   "outputs": [],
   "source": [
    "#Import Libraries\n",
    "\n",
    "import pandas as pd\n",
    "import numpy as np\n",
    "import matplotlib.pyplot as plt\n",
    "from scipy import interpolate\n",
    "import datetime\n",
    "import json\n",
    "import pickle\n",
    "import seaborn as sns\n",
    "import calendar"
   ]
  },
  {
   "cell_type": "markdown",
   "metadata": {},
   "source": [
    "#### Assumptions\n",
    "\n",
    "The objective is to analyse the profitability of investing in Cryptocurrency mining to make use of the excess energy produced in renewable energy."
   ]
  },
  {
   "cell_type": "code",
   "execution_count": 690,
   "metadata": {},
   "outputs": [],
   "source": [
    "# Load variables from the Global_Variables file\n",
    "\n",
    "with open('Global_Variables.pkl', 'rb') as f:\n",
    "    Global_Variables = pickle.load(f)"
   ]
  },
  {
   "cell_type": "code",
   "execution_count": 691,
   "metadata": {},
   "outputs": [],
   "source": [
    "#Assumptions from CHE Report\n",
    "\n",
    "#BTC Mining\n",
    "Basis_MW = Global_Variables['Basis_MW'] #MW\n",
    "Hardware_Eff = Global_Variables['Hardware_Eff'] #Percentage\n",
    "W_from_Renewables = Global_Variables['W_from_Renewables'] #GW\n",
    "P_from_Renewables = Global_Variables['P_from_Renewables'] #GW\n",
    "P_from_Solar = Global_Variables['P_from_Solar']\n",
    "Cooling = Global_Variables['Cooling'] #Percentage of excess energy produced by Solar Energy\n",
    "Solar_Plant_W = Global_Variables['Solar_Plant_W'] #GW\n",
    "\n",
    "#Solar Plant\n",
    "#PV_Capacity = Global_Variables['PV_Capacity'] #MW Maximum capacity\n",
    "Capital_Cost_PV = Global_Variables['Capital_Cost_PV'] #$/MW\n",
    "PV_Plant_Cost = Global_Variables['PV_Plant_Cost'] #$\n",
    "AC_capacity = Global_Variables['AC_capacity'] #MW Maximum capacity\n",
    "PV_plant_capacity  = Global_Variables['PV_plant_capacity'] #MW\n",
    "Off_peak_hours = Global_Variables['Off_peak_hours']\n",
    "Energy_Demand = Global_Variables['Energy_Demand']\n",
    "Electricity_Cost_USD = Global_Variables['Electricity_Cost_USD'] #USD per kWh for households\n",
    "\n",
    "#Date of data extraction from Blockchain.com\n",
    "current_year = Global_Variables['current_year']\n",
    "last_date =  Global_Variables['last_date']\n",
    "previous_year = Global_Variables['previous_year']\n",
    "months = Global_Variables['months']\n",
    "days_in_month = Global_Variables['days_in_month']\n",
    "hours = Global_Variables['hours']"
   ]
  },
  {
   "cell_type": "markdown",
   "metadata": {},
   "source": [
    "Data Sources:\n",
    "- https://www.asicminervalue.com/\n",
    "- https://www.blockchain.com/explorer/charts/"
   ]
  },
  {
   "cell_type": "code",
   "execution_count": 692,
   "metadata": {},
   "outputs": [],
   "source": [
    "#Import Files\n",
    "\n",
    "#Data used as basis\n",
    "Solar_Data = Global_Variables['Solar_Data']\n",
    "sheet_name_SolarData = 'Postmasburg'\n",
    "skiprows = 31\n",
    "\n",
    "#Data used as basis\n",
    "Crypto_Data = Global_Variables['Crypto_Data']\n",
    "#ASIC_df = pd.read_excel(Crypto_Data, sheet_name='Bitcoin Asic_data')\n",
    "ASIC_df = Crypto_Data\n",
    "\n",
    "#Bitcoin Data\n",
    "hashrate_BTC = Global_Variables['hashrate_BTC']\n",
    "revenue_BTC = Global_Variables['revenue_BTC']\n",
    "\n",
    "#JSON file paths\n",
    "file_paths = [hashrate_BTC,revenue_BTC]"
   ]
  },
  {
   "cell_type": "code",
   "execution_count": 693,
   "metadata": {},
   "outputs": [
    {
     "name": "stdout",
     "output_type": "stream",
     "text": [
      "Start Date -> 2024-01-01 00:00:00\n",
      "End Date -> 2023-10-25 00:00:00\n"
     ]
    }
   ],
   "source": [
    "start_date = pd.to_datetime(f'{previous_year}-01-01')\n",
    "end_date = pd.to_datetime(last_date) - pd.Timedelta(days=366)\n",
    "\n",
    "print(f\"Start Date -> {start_date}\")\n",
    "print(f\"End Date -> {end_date}\")"
   ]
  },
  {
   "cell_type": "markdown",
   "metadata": {},
   "source": [
    "### PV Plant Data"
   ]
  },
  {
   "cell_type": "markdown",
   "metadata": {},
   "source": [
    "##### Data Cleaning"
   ]
  },
  {
   "cell_type": "code",
   "execution_count": 694,
   "metadata": {},
   "outputs": [],
   "source": [
    "data = []\n",
    "\n",
    "for month in months:\n",
    "    days = days_in_month[month - 1]\n",
    "    for day in range(1, days + 1):\n",
    "        for hour in hours:\n",
    "            if hour in Off_peak_hours:\n",
    "                energy_demand = 0\n",
    "            else:\n",
    "                energy_demand = Energy_Demand\n",
    "            data.append({'Day': day, 'Month': month, 'Hour': hour, 'Energy Demand (MW)': energy_demand})\n",
    "\n",
    "df_Energy_Demand = pd.DataFrame(data)\n"
   ]
  },
  {
   "cell_type": "code",
   "execution_count": 695,
   "metadata": {},
   "outputs": [
    {
     "data": {
      "text/html": [
       "<div>\n",
       "<style scoped>\n",
       "    .dataframe tbody tr th:only-of-type {\n",
       "        vertical-align: middle;\n",
       "    }\n",
       "\n",
       "    .dataframe tbody tr th {\n",
       "        vertical-align: top;\n",
       "    }\n",
       "\n",
       "    .dataframe thead th {\n",
       "        text-align: right;\n",
       "    }\n",
       "</style>\n",
       "<table border=\"1\" class=\"dataframe\">\n",
       "  <thead>\n",
       "    <tr style=\"text-align: right;\">\n",
       "      <th></th>\n",
       "      <th>Day</th>\n",
       "      <th>Month</th>\n",
       "      <th>Hour</th>\n",
       "      <th>Energy Demand (MW)</th>\n",
       "    </tr>\n",
       "  </thead>\n",
       "  <tbody>\n",
       "    <tr>\n",
       "      <th>0</th>\n",
       "      <td>1</td>\n",
       "      <td>1</td>\n",
       "      <td>0</td>\n",
       "      <td>0</td>\n",
       "    </tr>\n",
       "    <tr>\n",
       "      <th>1</th>\n",
       "      <td>1</td>\n",
       "      <td>1</td>\n",
       "      <td>1</td>\n",
       "      <td>0</td>\n",
       "    </tr>\n",
       "    <tr>\n",
       "      <th>2</th>\n",
       "      <td>1</td>\n",
       "      <td>1</td>\n",
       "      <td>2</td>\n",
       "      <td>0</td>\n",
       "    </tr>\n",
       "    <tr>\n",
       "      <th>3</th>\n",
       "      <td>1</td>\n",
       "      <td>1</td>\n",
       "      <td>3</td>\n",
       "      <td>0</td>\n",
       "    </tr>\n",
       "    <tr>\n",
       "      <th>4</th>\n",
       "      <td>1</td>\n",
       "      <td>1</td>\n",
       "      <td>4</td>\n",
       "      <td>0</td>\n",
       "    </tr>\n",
       "  </tbody>\n",
       "</table>\n",
       "</div>"
      ],
      "text/plain": [
       "   Day  Month  Hour  Energy Demand (MW)\n",
       "0    1      1     0                   0\n",
       "1    1      1     1                   0\n",
       "2    1      1     2                   0\n",
       "3    1      1     3                   0\n",
       "4    1      1     4                   0"
      ]
     },
     "execution_count": 695,
     "metadata": {},
     "output_type": "execute_result"
    }
   ],
   "source": [
    "df_Energy_Demand.head()"
   ]
  },
  {
   "cell_type": "code",
   "execution_count": 696,
   "metadata": {},
   "outputs": [
    {
     "data": {
      "text/html": [
       "<div>\n",
       "<style scoped>\n",
       "    .dataframe tbody tr th:only-of-type {\n",
       "        vertical-align: middle;\n",
       "    }\n",
       "\n",
       "    .dataframe tbody tr th {\n",
       "        vertical-align: top;\n",
       "    }\n",
       "\n",
       "    .dataframe thead th {\n",
       "        text-align: right;\n",
       "    }\n",
       "</style>\n",
       "<table border=\"1\" class=\"dataframe\">\n",
       "  <thead>\n",
       "    <tr style=\"text-align: right;\">\n",
       "      <th></th>\n",
       "      <th>Date</th>\n",
       "      <th>Day-Month</th>\n",
       "      <th>Hour</th>\n",
       "      <th>Energy Demand (MW)</th>\n",
       "    </tr>\n",
       "  </thead>\n",
       "  <tbody>\n",
       "    <tr>\n",
       "      <th>0</th>\n",
       "      <td>2024-01-01</td>\n",
       "      <td>01-01</td>\n",
       "      <td>0</td>\n",
       "      <td>0</td>\n",
       "    </tr>\n",
       "    <tr>\n",
       "      <th>1</th>\n",
       "      <td>2024-01-01</td>\n",
       "      <td>01-01</td>\n",
       "      <td>1</td>\n",
       "      <td>0</td>\n",
       "    </tr>\n",
       "    <tr>\n",
       "      <th>2</th>\n",
       "      <td>2024-01-01</td>\n",
       "      <td>01-01</td>\n",
       "      <td>2</td>\n",
       "      <td>0</td>\n",
       "    </tr>\n",
       "    <tr>\n",
       "      <th>3</th>\n",
       "      <td>2024-01-01</td>\n",
       "      <td>01-01</td>\n",
       "      <td>3</td>\n",
       "      <td>0</td>\n",
       "    </tr>\n",
       "    <tr>\n",
       "      <th>4</th>\n",
       "      <td>2024-01-01</td>\n",
       "      <td>01-01</td>\n",
       "      <td>4</td>\n",
       "      <td>0</td>\n",
       "    </tr>\n",
       "    <tr>\n",
       "      <th>5</th>\n",
       "      <td>2024-01-01</td>\n",
       "      <td>01-01</td>\n",
       "      <td>5</td>\n",
       "      <td>0</td>\n",
       "    </tr>\n",
       "    <tr>\n",
       "      <th>6</th>\n",
       "      <td>2024-01-01</td>\n",
       "      <td>01-01</td>\n",
       "      <td>6</td>\n",
       "      <td>150</td>\n",
       "    </tr>\n",
       "    <tr>\n",
       "      <th>7</th>\n",
       "      <td>2024-01-01</td>\n",
       "      <td>01-01</td>\n",
       "      <td>7</td>\n",
       "      <td>150</td>\n",
       "    </tr>\n",
       "    <tr>\n",
       "      <th>8</th>\n",
       "      <td>2024-01-01</td>\n",
       "      <td>01-01</td>\n",
       "      <td>8</td>\n",
       "      <td>150</td>\n",
       "    </tr>\n",
       "    <tr>\n",
       "      <th>9</th>\n",
       "      <td>2024-01-01</td>\n",
       "      <td>01-01</td>\n",
       "      <td>9</td>\n",
       "      <td>150</td>\n",
       "    </tr>\n",
       "  </tbody>\n",
       "</table>\n",
       "</div>"
      ],
      "text/plain": [
       "        Date Day-Month  Hour  Energy Demand (MW)\n",
       "0 2024-01-01     01-01     0                   0\n",
       "1 2024-01-01     01-01     1                   0\n",
       "2 2024-01-01     01-01     2                   0\n",
       "3 2024-01-01     01-01     3                   0\n",
       "4 2024-01-01     01-01     4                   0\n",
       "5 2024-01-01     01-01     5                   0\n",
       "6 2024-01-01     01-01     6                 150\n",
       "7 2024-01-01     01-01     7                 150\n",
       "8 2024-01-01     01-01     8                 150\n",
       "9 2024-01-01     01-01     9                 150"
      ]
     },
     "execution_count": 696,
     "metadata": {},
     "output_type": "execute_result"
    }
   ],
   "source": [
    "#Create new columns with full dates\n",
    "\n",
    "df_Energy_Demand['Day-Month-Year'] = pd.to_datetime(df_Energy_Demand['Day'].astype(str) + '-' + df_Energy_Demand['Month'].astype(str) + '-' + str(previous_year), \n",
    "                            format='%d-%m-%Y', errors='coerce')\n",
    "\n",
    "# Replace year with 2024 for dates within the range\n",
    "df_Energy_Demand['Day-Month-Year'] = df_Energy_Demand['Day-Month-Year'].apply(lambda x: x.replace(year=int(current_year)) if start_date <= x <= end_date else x)\n",
    "\n",
    "df_Energy_Demand['Day-Month'] = df_Energy_Demand['Day-Month-Year'].dt.strftime('%d-%m')\n",
    "\n",
    "df_Energy_Demand['Date'] = pd.to_datetime(df_Energy_Demand['Day-Month-Year'], format='%d-%B-%Y')\n",
    "df_Energy_Demand = df_Energy_Demand[['Date','Day-Month','Hour','Energy Demand (MW)']]\n",
    "\n",
    "df_Energy_Demand.head(10)"
   ]
  },
  {
   "cell_type": "code",
   "execution_count": 697,
   "metadata": {},
   "outputs": [
    {
     "data": {
      "text/html": [
       "<div>\n",
       "<style scoped>\n",
       "    .dataframe tbody tr th:only-of-type {\n",
       "        vertical-align: middle;\n",
       "    }\n",
       "\n",
       "    .dataframe tbody tr th {\n",
       "        vertical-align: top;\n",
       "    }\n",
       "\n",
       "    .dataframe thead th {\n",
       "        text-align: right;\n",
       "    }\n",
       "</style>\n",
       "<table border=\"1\" class=\"dataframe\">\n",
       "  <thead>\n",
       "    <tr style=\"text-align: right;\">\n",
       "      <th></th>\n",
       "      <th>Month</th>\n",
       "      <th>Day</th>\n",
       "      <th>Hour</th>\n",
       "      <th>Beam Irradiance (W/m2)</th>\n",
       "      <th>Diffuse Irradiance (W/m2)</th>\n",
       "      <th>Ambient Temperature (C)</th>\n",
       "      <th>Wind Speed (m/s)</th>\n",
       "      <th>Albedo</th>\n",
       "      <th>Plane of Array Irradiance (W/m2)</th>\n",
       "      <th>Cell Temperature (C)</th>\n",
       "      <th>DC Array Output (W)</th>\n",
       "      <th>AC System Output (W)</th>\n",
       "    </tr>\n",
       "  </thead>\n",
       "  <tbody>\n",
       "    <tr>\n",
       "      <th>0</th>\n",
       "      <td>1</td>\n",
       "      <td>1</td>\n",
       "      <td>0</td>\n",
       "      <td>0</td>\n",
       "      <td>0</td>\n",
       "      <td>20.1</td>\n",
       "      <td>2.9</td>\n",
       "      <td>0.2</td>\n",
       "      <td>0.0</td>\n",
       "      <td>20.1</td>\n",
       "      <td>0.0</td>\n",
       "      <td>0.0</td>\n",
       "    </tr>\n",
       "    <tr>\n",
       "      <th>1</th>\n",
       "      <td>1</td>\n",
       "      <td>1</td>\n",
       "      <td>1</td>\n",
       "      <td>0</td>\n",
       "      <td>0</td>\n",
       "      <td>18.7</td>\n",
       "      <td>3.0</td>\n",
       "      <td>0.2</td>\n",
       "      <td>0.0</td>\n",
       "      <td>18.7</td>\n",
       "      <td>0.0</td>\n",
       "      <td>0.0</td>\n",
       "    </tr>\n",
       "    <tr>\n",
       "      <th>2</th>\n",
       "      <td>1</td>\n",
       "      <td>1</td>\n",
       "      <td>2</td>\n",
       "      <td>0</td>\n",
       "      <td>0</td>\n",
       "      <td>19.2</td>\n",
       "      <td>1.3</td>\n",
       "      <td>0.2</td>\n",
       "      <td>0.0</td>\n",
       "      <td>19.2</td>\n",
       "      <td>0.0</td>\n",
       "      <td>0.0</td>\n",
       "    </tr>\n",
       "    <tr>\n",
       "      <th>3</th>\n",
       "      <td>1</td>\n",
       "      <td>1</td>\n",
       "      <td>3</td>\n",
       "      <td>0</td>\n",
       "      <td>0</td>\n",
       "      <td>18.5</td>\n",
       "      <td>1.1</td>\n",
       "      <td>0.2</td>\n",
       "      <td>0.0</td>\n",
       "      <td>18.5</td>\n",
       "      <td>0.0</td>\n",
       "      <td>0.0</td>\n",
       "    </tr>\n",
       "    <tr>\n",
       "      <th>4</th>\n",
       "      <td>1</td>\n",
       "      <td>1</td>\n",
       "      <td>4</td>\n",
       "      <td>0</td>\n",
       "      <td>0</td>\n",
       "      <td>18.3</td>\n",
       "      <td>1.0</td>\n",
       "      <td>0.2</td>\n",
       "      <td>0.0</td>\n",
       "      <td>18.3</td>\n",
       "      <td>0.0</td>\n",
       "      <td>0.0</td>\n",
       "    </tr>\n",
       "  </tbody>\n",
       "</table>\n",
       "</div>"
      ],
      "text/plain": [
       "   Month  Day  Hour  Beam Irradiance (W/m2)  Diffuse Irradiance (W/m2)  \\\n",
       "0      1    1     0                       0                          0   \n",
       "1      1    1     1                       0                          0   \n",
       "2      1    1     2                       0                          0   \n",
       "3      1    1     3                       0                          0   \n",
       "4      1    1     4                       0                          0   \n",
       "\n",
       "   Ambient Temperature (C)  Wind Speed (m/s)  Albedo  \\\n",
       "0                     20.1               2.9     0.2   \n",
       "1                     18.7               3.0     0.2   \n",
       "2                     19.2               1.3     0.2   \n",
       "3                     18.5               1.1     0.2   \n",
       "4                     18.3               1.0     0.2   \n",
       "\n",
       "   Plane of Array Irradiance (W/m2)  Cell Temperature (C)  \\\n",
       "0                               0.0                  20.1   \n",
       "1                               0.0                  18.7   \n",
       "2                               0.0                  19.2   \n",
       "3                               0.0                  18.5   \n",
       "4                               0.0                  18.3   \n",
       "\n",
       "   DC Array Output (W)  AC System Output (W)  \n",
       "0                  0.0                   0.0  \n",
       "1                  0.0                   0.0  \n",
       "2                  0.0                   0.0  \n",
       "3                  0.0                   0.0  \n",
       "4                  0.0                   0.0  "
      ]
     },
     "execution_count": 697,
     "metadata": {},
     "output_type": "execute_result"
    }
   ],
   "source": [
    "#Read Files with validation check\n",
    "\n",
    "df_PV = pd.read_excel(Solar_Data, sheet_name=sheet_name_SolarData, skiprows=skiprows)\n",
    "df_PV.head()\n"
   ]
  },
  {
   "cell_type": "code",
   "execution_count": 698,
   "metadata": {},
   "outputs": [
    {
     "name": "stderr",
     "output_type": "stream",
     "text": [
      "C:\\Users\\HeldaMandlate\\AppData\\Local\\Temp\\ipykernel_33796\\49855558.py:3: FutureWarning: Series.fillna with 'method' is deprecated and will raise in a future version. Use obj.ffill() or obj.bfill() instead.\n",
      "  df_PV['Month'] = df_PV['Month'].fillna(method='ffill')\n"
     ]
    }
   ],
   "source": [
    "#Clean Data\n",
    "\n",
    "df_PV['Month'] = df_PV['Month'].fillna(method='ffill')"
   ]
  },
  {
   "cell_type": "code",
   "execution_count": 699,
   "metadata": {},
   "outputs": [
    {
     "data": {
      "text/plain": [
       "[1, 2, 3, 4, 5, 6, 7, 8, 9, 10, 11, 12]"
      ]
     },
     "execution_count": 699,
     "metadata": {},
     "output_type": "execute_result"
    }
   ],
   "source": [
    "#List of all rows entries in column Month\n",
    "\n",
    "df_PV['Month'].unique().tolist()"
   ]
  },
  {
   "cell_type": "code",
   "execution_count": 700,
   "metadata": {},
   "outputs": [
    {
     "data": {
      "text/plain": [
       "Index(['Month', 'Day', 'Hour', 'Beam Irradiance (W/m2)',\n",
       "       'Diffuse Irradiance (W/m2)', 'Ambient Temperature (C)',\n",
       "       'Wind Speed (m/s)', 'Albedo', 'Plane of Array Irradiance (W/m2)',\n",
       "       'Cell Temperature (C)', 'DC Array Output (W)', 'AC System Output (W)'],\n",
       "      dtype='object')"
      ]
     },
     "execution_count": 700,
     "metadata": {},
     "output_type": "execute_result"
    }
   ],
   "source": [
    "df_PV.columns"
   ]
  },
  {
   "cell_type": "code",
   "execution_count": 701,
   "metadata": {},
   "outputs": [],
   "source": [
    "#Create new columns with full dates\n",
    "\n",
    "df_PV['Day-Month-Year'] = pd.to_datetime(df_PV['Day'].astype(str) + '-' + df_PV['Month'].astype(str) + '-' + str(previous_year), \n",
    "                            format='%d-%m-%Y', errors='coerce')\n",
    "\n",
    "df_PV['Day-Month'] = df_PV['Day-Month-Year'].dt.strftime('%d-%m')\n",
    "\n",
    "df_PV['Date'] = pd.to_datetime(df_PV['Day-Month-Year'], format='%d-%B-%Y')\n",
    "df_PV = df_PV[['Date','Day-Month','Hour','AC System Output (W)']]"
   ]
  },
  {
   "cell_type": "code",
   "execution_count": 702,
   "metadata": {},
   "outputs": [
    {
     "data": {
      "text/html": [
       "<div>\n",
       "<style scoped>\n",
       "    .dataframe tbody tr th:only-of-type {\n",
       "        vertical-align: middle;\n",
       "    }\n",
       "\n",
       "    .dataframe tbody tr th {\n",
       "        vertical-align: top;\n",
       "    }\n",
       "\n",
       "    .dataframe thead th {\n",
       "        text-align: right;\n",
       "    }\n",
       "</style>\n",
       "<table border=\"1\" class=\"dataframe\">\n",
       "  <thead>\n",
       "    <tr style=\"text-align: right;\">\n",
       "      <th></th>\n",
       "      <th>Date</th>\n",
       "      <th>Day-Month</th>\n",
       "      <th>Hour</th>\n",
       "      <th>AC System Output (W)</th>\n",
       "    </tr>\n",
       "  </thead>\n",
       "  <tbody>\n",
       "    <tr>\n",
       "      <th>0</th>\n",
       "      <td>2024-01-01</td>\n",
       "      <td>01-01</td>\n",
       "      <td>0</td>\n",
       "      <td>0.000000e+00</td>\n",
       "    </tr>\n",
       "    <tr>\n",
       "      <th>1</th>\n",
       "      <td>2024-01-01</td>\n",
       "      <td>01-01</td>\n",
       "      <td>1</td>\n",
       "      <td>0.000000e+00</td>\n",
       "    </tr>\n",
       "    <tr>\n",
       "      <th>2</th>\n",
       "      <td>2024-01-01</td>\n",
       "      <td>01-01</td>\n",
       "      <td>2</td>\n",
       "      <td>0.000000e+00</td>\n",
       "    </tr>\n",
       "    <tr>\n",
       "      <th>3</th>\n",
       "      <td>2024-01-01</td>\n",
       "      <td>01-01</td>\n",
       "      <td>3</td>\n",
       "      <td>0.000000e+00</td>\n",
       "    </tr>\n",
       "    <tr>\n",
       "      <th>4</th>\n",
       "      <td>2024-01-01</td>\n",
       "      <td>01-01</td>\n",
       "      <td>4</td>\n",
       "      <td>0.000000e+00</td>\n",
       "    </tr>\n",
       "    <tr>\n",
       "      <th>5</th>\n",
       "      <td>2024-01-01</td>\n",
       "      <td>01-01</td>\n",
       "      <td>5</td>\n",
       "      <td>0.000000e+00</td>\n",
       "    </tr>\n",
       "    <tr>\n",
       "      <th>6</th>\n",
       "      <td>2024-01-01</td>\n",
       "      <td>01-01</td>\n",
       "      <td>6</td>\n",
       "      <td>2.426402e+06</td>\n",
       "    </tr>\n",
       "    <tr>\n",
       "      <th>7</th>\n",
       "      <td>2024-01-01</td>\n",
       "      <td>01-01</td>\n",
       "      <td>7</td>\n",
       "      <td>2.014256e+07</td>\n",
       "    </tr>\n",
       "    <tr>\n",
       "      <th>8</th>\n",
       "      <td>2024-01-01</td>\n",
       "      <td>01-01</td>\n",
       "      <td>8</td>\n",
       "      <td>4.182478e+07</td>\n",
       "    </tr>\n",
       "    <tr>\n",
       "      <th>9</th>\n",
       "      <td>2024-01-01</td>\n",
       "      <td>01-01</td>\n",
       "      <td>9</td>\n",
       "      <td>5.814726e+07</td>\n",
       "    </tr>\n",
       "  </tbody>\n",
       "</table>\n",
       "</div>"
      ],
      "text/plain": [
       "        Date Day-Month  Hour  AC System Output (W)\n",
       "0 2024-01-01     01-01     0          0.000000e+00\n",
       "1 2024-01-01     01-01     1          0.000000e+00\n",
       "2 2024-01-01     01-01     2          0.000000e+00\n",
       "3 2024-01-01     01-01     3          0.000000e+00\n",
       "4 2024-01-01     01-01     4          0.000000e+00\n",
       "5 2024-01-01     01-01     5          0.000000e+00\n",
       "6 2024-01-01     01-01     6          2.426402e+06\n",
       "7 2024-01-01     01-01     7          2.014256e+07\n",
       "8 2024-01-01     01-01     8          4.182478e+07\n",
       "9 2024-01-01     01-01     9          5.814726e+07"
      ]
     },
     "execution_count": 702,
     "metadata": {},
     "output_type": "execute_result"
    }
   ],
   "source": [
    "df_PV.head(10)"
   ]
  },
  {
   "cell_type": "code",
   "execution_count": 703,
   "metadata": {},
   "outputs": [
    {
     "data": {
      "text/html": [
       "<div>\n",
       "<style scoped>\n",
       "    .dataframe tbody tr th:only-of-type {\n",
       "        vertical-align: middle;\n",
       "    }\n",
       "\n",
       "    .dataframe tbody tr th {\n",
       "        vertical-align: top;\n",
       "    }\n",
       "\n",
       "    .dataframe thead th {\n",
       "        text-align: right;\n",
       "    }\n",
       "</style>\n",
       "<table border=\"1\" class=\"dataframe\">\n",
       "  <thead>\n",
       "    <tr style=\"text-align: right;\">\n",
       "      <th></th>\n",
       "      <th>Date</th>\n",
       "      <th>Day-Month</th>\n",
       "      <th>Hour</th>\n",
       "      <th>AC System Output (W)</th>\n",
       "      <th>AC System Output (MW)</th>\n",
       "      <th>Energy Generation (MW)</th>\n",
       "      <th>Energy for Mining (MW)</th>\n",
       "    </tr>\n",
       "  </thead>\n",
       "  <tbody>\n",
       "    <tr>\n",
       "      <th>0</th>\n",
       "      <td>2024-01-01</td>\n",
       "      <td>01-01</td>\n",
       "      <td>0</td>\n",
       "      <td>0.000000e+00</td>\n",
       "      <td>0.000000</td>\n",
       "      <td>0.000000</td>\n",
       "      <td>0.000000</td>\n",
       "    </tr>\n",
       "    <tr>\n",
       "      <th>1</th>\n",
       "      <td>2024-01-01</td>\n",
       "      <td>01-01</td>\n",
       "      <td>1</td>\n",
       "      <td>0.000000e+00</td>\n",
       "      <td>0.000000</td>\n",
       "      <td>0.000000</td>\n",
       "      <td>0.000000</td>\n",
       "    </tr>\n",
       "    <tr>\n",
       "      <th>2</th>\n",
       "      <td>2024-01-01</td>\n",
       "      <td>01-01</td>\n",
       "      <td>2</td>\n",
       "      <td>0.000000e+00</td>\n",
       "      <td>0.000000</td>\n",
       "      <td>0.000000</td>\n",
       "      <td>0.000000</td>\n",
       "    </tr>\n",
       "    <tr>\n",
       "      <th>3</th>\n",
       "      <td>2024-01-01</td>\n",
       "      <td>01-01</td>\n",
       "      <td>3</td>\n",
       "      <td>0.000000e+00</td>\n",
       "      <td>0.000000</td>\n",
       "      <td>0.000000</td>\n",
       "      <td>0.000000</td>\n",
       "    </tr>\n",
       "    <tr>\n",
       "      <th>4</th>\n",
       "      <td>2024-01-01</td>\n",
       "      <td>01-01</td>\n",
       "      <td>4</td>\n",
       "      <td>0.000000e+00</td>\n",
       "      <td>0.000000</td>\n",
       "      <td>0.000000</td>\n",
       "      <td>0.000000</td>\n",
       "    </tr>\n",
       "    <tr>\n",
       "      <th>5</th>\n",
       "      <td>2024-01-01</td>\n",
       "      <td>01-01</td>\n",
       "      <td>5</td>\n",
       "      <td>0.000000e+00</td>\n",
       "      <td>0.000000</td>\n",
       "      <td>0.000000</td>\n",
       "      <td>0.000000</td>\n",
       "    </tr>\n",
       "    <tr>\n",
       "      <th>6</th>\n",
       "      <td>2024-01-01</td>\n",
       "      <td>01-01</td>\n",
       "      <td>6</td>\n",
       "      <td>2.426402e+06</td>\n",
       "      <td>2.426402</td>\n",
       "      <td>12.132011</td>\n",
       "      <td>0.000000</td>\n",
       "    </tr>\n",
       "    <tr>\n",
       "      <th>7</th>\n",
       "      <td>2024-01-01</td>\n",
       "      <td>01-01</td>\n",
       "      <td>7</td>\n",
       "      <td>2.014256e+07</td>\n",
       "      <td>20.142561</td>\n",
       "      <td>100.712807</td>\n",
       "      <td>0.000000</td>\n",
       "    </tr>\n",
       "    <tr>\n",
       "      <th>8</th>\n",
       "      <td>2024-01-01</td>\n",
       "      <td>01-01</td>\n",
       "      <td>8</td>\n",
       "      <td>4.182478e+07</td>\n",
       "      <td>41.824776</td>\n",
       "      <td>209.123878</td>\n",
       "      <td>59.123878</td>\n",
       "    </tr>\n",
       "    <tr>\n",
       "      <th>9</th>\n",
       "      <td>2024-01-01</td>\n",
       "      <td>01-01</td>\n",
       "      <td>9</td>\n",
       "      <td>5.814726e+07</td>\n",
       "      <td>58.147261</td>\n",
       "      <td>290.736306</td>\n",
       "      <td>140.736306</td>\n",
       "    </tr>\n",
       "  </tbody>\n",
       "</table>\n",
       "</div>"
      ],
      "text/plain": [
       "        Date Day-Month  Hour  AC System Output (W)  AC System Output (MW)  \\\n",
       "0 2024-01-01     01-01     0          0.000000e+00               0.000000   \n",
       "1 2024-01-01     01-01     1          0.000000e+00               0.000000   \n",
       "2 2024-01-01     01-01     2          0.000000e+00               0.000000   \n",
       "3 2024-01-01     01-01     3          0.000000e+00               0.000000   \n",
       "4 2024-01-01     01-01     4          0.000000e+00               0.000000   \n",
       "5 2024-01-01     01-01     5          0.000000e+00               0.000000   \n",
       "6 2024-01-01     01-01     6          2.426402e+06               2.426402   \n",
       "7 2024-01-01     01-01     7          2.014256e+07              20.142561   \n",
       "8 2024-01-01     01-01     8          4.182478e+07              41.824776   \n",
       "9 2024-01-01     01-01     9          5.814726e+07              58.147261   \n",
       "\n",
       "   Energy Generation (MW)  Energy for Mining (MW)  \n",
       "0                0.000000                0.000000  \n",
       "1                0.000000                0.000000  \n",
       "2                0.000000                0.000000  \n",
       "3                0.000000                0.000000  \n",
       "4                0.000000                0.000000  \n",
       "5                0.000000                0.000000  \n",
       "6               12.132011                0.000000  \n",
       "7              100.712807                0.000000  \n",
       "8              209.123878               59.123878  \n",
       "9              290.736306              140.736306  "
      ]
     },
     "execution_count": 703,
     "metadata": {},
     "output_type": "execute_result"
    }
   ],
   "source": [
    "#Surplus Energy in W\n",
    "\n",
    "df_PV['AC System Output (MW)'] = df_PV['AC System Output (W)']/1000000\n",
    "df_PV['Energy Generation (MW)'] = (df_PV['AC System Output (MW)']/AC_capacity)*PV_plant_capacity\n",
    "\n",
    "df_PV['Energy for Mining (MW)'] = ((df_PV['Energy Generation (MW)'] - df_Energy_Demand['Energy Demand (MW)']) ).where(\n",
    "    ((df_PV['Energy Generation (MW)'] - df_Energy_Demand['Energy Demand (MW)']) ) > 0, 0)\n",
    "\n",
    "\n",
    "\n",
    "df_PV.head(10)"
   ]
  },
  {
   "cell_type": "code",
   "execution_count": 704,
   "metadata": {},
   "outputs": [
    {
     "data": {
      "text/plain": [
       "np.float64(418575.66029698)"
      ]
     },
     "execution_count": 704,
     "metadata": {},
     "output_type": "execute_result"
    }
   ],
   "source": [
    "df_PV['Energy for Mining (MW)'].sum()"
   ]
  },
  {
   "cell_type": "code",
   "execution_count": 705,
   "metadata": {},
   "outputs": [
    {
     "data": {
      "text/plain": [
       "np.float64(23.032814443928167)"
      ]
     },
     "execution_count": 705,
     "metadata": {},
     "output_type": "execute_result"
    }
   ],
   "source": [
    "(df_PV['Energy for Mining (MW)'].sum())*1000*Electricity_Cost_USD/1000000 #ELECTRICITY REVENUE\n"
   ]
  },
  {
   "cell_type": "code",
   "execution_count": 706,
   "metadata": {},
   "outputs": [
    {
     "data": {
      "text/plain": [
       "np.float64(926182.210258815)"
      ]
     },
     "execution_count": 706,
     "metadata": {},
     "output_type": "execute_result"
    }
   ],
   "source": [
    "df_PV['Energy Generation (MW)'].sum()"
   ]
  },
  {
   "cell_type": "code",
   "execution_count": 707,
   "metadata": {},
   "outputs": [
    {
     "data": {
      "text/plain": [
       "np.float64(45.1936622902757)"
      ]
     },
     "execution_count": 707,
     "metadata": {},
     "output_type": "execute_result"
    }
   ],
   "source": [
    "df_PV['Energy for Mining (MW)'].sum()*100/df_PV['Energy Generation (MW)'].sum()"
   ]
  },
  {
   "cell_type": "code",
   "execution_count": 708,
   "metadata": {},
   "outputs": [
    {
     "name": "stdout",
     "output_type": "stream",
     "text": [
      "416.66666666500004\n"
     ]
    }
   ],
   "source": [
    "max_output = df_PV['Energy Generation (MW)'].max()\n",
    "print(max_output)"
   ]
  },
  {
   "cell_type": "code",
   "execution_count": 709,
   "metadata": {},
   "outputs": [
    {
     "name": "stdout",
     "output_type": "stream",
     "text": [
      "0.83333333333\n"
     ]
    }
   ],
   "source": [
    "#Plant Efficiency\n",
    "eff = max_output/PV_plant_capacity\n",
    "print(eff)"
   ]
  },
  {
   "cell_type": "code",
   "execution_count": 710,
   "metadata": {},
   "outputs": [],
   "source": [
    "\n",
    "df_PV['Energy for Mining (MW)'] = df_PV['Energy for Mining (MW)']*(1-Cooling)\n",
    "\n",
    "# Replace year with 2024 for dates within the range\n",
    "df_PV['Date'] = df_PV['Date'].apply(lambda x: x.replace(year=int(current_year)) if start_date <= x <= end_date else x)\n",
    "\n",
    "relevant_columns = ['Date', 'Day-Month', 'Hour', 'Energy for Mining (MW)']\n",
    "df_PV = df_PV[relevant_columns]"
   ]
  },
  {
   "cell_type": "code",
   "execution_count": 711,
   "metadata": {},
   "outputs": [
    {
     "data": {
      "text/html": [
       "<div>\n",
       "<style scoped>\n",
       "    .dataframe tbody tr th:only-of-type {\n",
       "        vertical-align: middle;\n",
       "    }\n",
       "\n",
       "    .dataframe tbody tr th {\n",
       "        vertical-align: top;\n",
       "    }\n",
       "\n",
       "    .dataframe thead th {\n",
       "        text-align: right;\n",
       "    }\n",
       "</style>\n",
       "<table border=\"1\" class=\"dataframe\">\n",
       "  <thead>\n",
       "    <tr style=\"text-align: right;\">\n",
       "      <th></th>\n",
       "      <th>Date</th>\n",
       "      <th>Day-Month</th>\n",
       "      <th>Hour</th>\n",
       "      <th>Energy for Mining (MW)</th>\n",
       "    </tr>\n",
       "  </thead>\n",
       "  <tbody>\n",
       "    <tr>\n",
       "      <th>0</th>\n",
       "      <td>2024-01-01</td>\n",
       "      <td>01-01</td>\n",
       "      <td>0</td>\n",
       "      <td>0.000000</td>\n",
       "    </tr>\n",
       "    <tr>\n",
       "      <th>1</th>\n",
       "      <td>2024-01-01</td>\n",
       "      <td>01-01</td>\n",
       "      <td>1</td>\n",
       "      <td>0.000000</td>\n",
       "    </tr>\n",
       "    <tr>\n",
       "      <th>2</th>\n",
       "      <td>2024-01-01</td>\n",
       "      <td>01-01</td>\n",
       "      <td>2</td>\n",
       "      <td>0.000000</td>\n",
       "    </tr>\n",
       "    <tr>\n",
       "      <th>3</th>\n",
       "      <td>2024-01-01</td>\n",
       "      <td>01-01</td>\n",
       "      <td>3</td>\n",
       "      <td>0.000000</td>\n",
       "    </tr>\n",
       "    <tr>\n",
       "      <th>4</th>\n",
       "      <td>2024-01-01</td>\n",
       "      <td>01-01</td>\n",
       "      <td>4</td>\n",
       "      <td>0.000000</td>\n",
       "    </tr>\n",
       "    <tr>\n",
       "      <th>5</th>\n",
       "      <td>2024-01-01</td>\n",
       "      <td>01-01</td>\n",
       "      <td>5</td>\n",
       "      <td>0.000000</td>\n",
       "    </tr>\n",
       "    <tr>\n",
       "      <th>6</th>\n",
       "      <td>2024-01-01</td>\n",
       "      <td>01-01</td>\n",
       "      <td>6</td>\n",
       "      <td>0.000000</td>\n",
       "    </tr>\n",
       "    <tr>\n",
       "      <th>7</th>\n",
       "      <td>2024-01-01</td>\n",
       "      <td>01-01</td>\n",
       "      <td>7</td>\n",
       "      <td>0.000000</td>\n",
       "    </tr>\n",
       "    <tr>\n",
       "      <th>8</th>\n",
       "      <td>2024-01-01</td>\n",
       "      <td>01-01</td>\n",
       "      <td>8</td>\n",
       "      <td>47.299103</td>\n",
       "    </tr>\n",
       "    <tr>\n",
       "      <th>9</th>\n",
       "      <td>2024-01-01</td>\n",
       "      <td>01-01</td>\n",
       "      <td>9</td>\n",
       "      <td>112.589045</td>\n",
       "    </tr>\n",
       "  </tbody>\n",
       "</table>\n",
       "</div>"
      ],
      "text/plain": [
       "        Date Day-Month  Hour  Energy for Mining (MW)\n",
       "0 2024-01-01     01-01     0                0.000000\n",
       "1 2024-01-01     01-01     1                0.000000\n",
       "2 2024-01-01     01-01     2                0.000000\n",
       "3 2024-01-01     01-01     3                0.000000\n",
       "4 2024-01-01     01-01     4                0.000000\n",
       "5 2024-01-01     01-01     5                0.000000\n",
       "6 2024-01-01     01-01     6                0.000000\n",
       "7 2024-01-01     01-01     7                0.000000\n",
       "8 2024-01-01     01-01     8               47.299103\n",
       "9 2024-01-01     01-01     9              112.589045"
      ]
     },
     "execution_count": 711,
     "metadata": {},
     "output_type": "execute_result"
    }
   ],
   "source": [
    "df_PV.head(10)"
   ]
  },
  {
   "cell_type": "code",
   "execution_count": 712,
   "metadata": {},
   "outputs": [
    {
     "name": "stdout",
     "output_type": "stream",
     "text": [
      "213.33333333200005\n"
     ]
    }
   ],
   "source": [
    "print(df_PV['Energy for Mining (MW)'].max())"
   ]
  },
  {
   "cell_type": "code",
   "execution_count": 713,
   "metadata": {},
   "outputs": [],
   "source": [
    "df_PV = pd.merge(df_PV, df_Energy_Demand, how='inner', on=['Day-Month', 'Hour'])"
   ]
  },
  {
   "cell_type": "code",
   "execution_count": 714,
   "metadata": {},
   "outputs": [
    {
     "data": {
      "text/html": [
       "<div>\n",
       "<style scoped>\n",
       "    .dataframe tbody tr th:only-of-type {\n",
       "        vertical-align: middle;\n",
       "    }\n",
       "\n",
       "    .dataframe tbody tr th {\n",
       "        vertical-align: top;\n",
       "    }\n",
       "\n",
       "    .dataframe thead th {\n",
       "        text-align: right;\n",
       "    }\n",
       "</style>\n",
       "<table border=\"1\" class=\"dataframe\">\n",
       "  <thead>\n",
       "    <tr style=\"text-align: right;\">\n",
       "      <th></th>\n",
       "      <th>Date_x</th>\n",
       "      <th>Day-Month</th>\n",
       "      <th>Hour</th>\n",
       "      <th>Energy for Mining (MW)</th>\n",
       "      <th>Date_y</th>\n",
       "      <th>Energy Demand (MW)</th>\n",
       "    </tr>\n",
       "  </thead>\n",
       "  <tbody>\n",
       "    <tr>\n",
       "      <th>0</th>\n",
       "      <td>2024-01-01</td>\n",
       "      <td>01-01</td>\n",
       "      <td>0</td>\n",
       "      <td>0.000000</td>\n",
       "      <td>2024-01-01</td>\n",
       "      <td>0</td>\n",
       "    </tr>\n",
       "    <tr>\n",
       "      <th>1</th>\n",
       "      <td>2024-01-01</td>\n",
       "      <td>01-01</td>\n",
       "      <td>1</td>\n",
       "      <td>0.000000</td>\n",
       "      <td>2024-01-01</td>\n",
       "      <td>0</td>\n",
       "    </tr>\n",
       "    <tr>\n",
       "      <th>2</th>\n",
       "      <td>2024-01-01</td>\n",
       "      <td>01-01</td>\n",
       "      <td>2</td>\n",
       "      <td>0.000000</td>\n",
       "      <td>2024-01-01</td>\n",
       "      <td>0</td>\n",
       "    </tr>\n",
       "    <tr>\n",
       "      <th>3</th>\n",
       "      <td>2024-01-01</td>\n",
       "      <td>01-01</td>\n",
       "      <td>3</td>\n",
       "      <td>0.000000</td>\n",
       "      <td>2024-01-01</td>\n",
       "      <td>0</td>\n",
       "    </tr>\n",
       "    <tr>\n",
       "      <th>4</th>\n",
       "      <td>2024-01-01</td>\n",
       "      <td>01-01</td>\n",
       "      <td>4</td>\n",
       "      <td>0.000000</td>\n",
       "      <td>2024-01-01</td>\n",
       "      <td>0</td>\n",
       "    </tr>\n",
       "    <tr>\n",
       "      <th>5</th>\n",
       "      <td>2024-01-01</td>\n",
       "      <td>01-01</td>\n",
       "      <td>5</td>\n",
       "      <td>0.000000</td>\n",
       "      <td>2024-01-01</td>\n",
       "      <td>0</td>\n",
       "    </tr>\n",
       "    <tr>\n",
       "      <th>6</th>\n",
       "      <td>2024-01-01</td>\n",
       "      <td>01-01</td>\n",
       "      <td>6</td>\n",
       "      <td>0.000000</td>\n",
       "      <td>2024-01-01</td>\n",
       "      <td>150</td>\n",
       "    </tr>\n",
       "    <tr>\n",
       "      <th>7</th>\n",
       "      <td>2024-01-01</td>\n",
       "      <td>01-01</td>\n",
       "      <td>7</td>\n",
       "      <td>0.000000</td>\n",
       "      <td>2024-01-01</td>\n",
       "      <td>150</td>\n",
       "    </tr>\n",
       "    <tr>\n",
       "      <th>8</th>\n",
       "      <td>2024-01-01</td>\n",
       "      <td>01-01</td>\n",
       "      <td>8</td>\n",
       "      <td>47.299103</td>\n",
       "      <td>2024-01-01</td>\n",
       "      <td>150</td>\n",
       "    </tr>\n",
       "    <tr>\n",
       "      <th>9</th>\n",
       "      <td>2024-01-01</td>\n",
       "      <td>01-01</td>\n",
       "      <td>9</td>\n",
       "      <td>112.589045</td>\n",
       "      <td>2024-01-01</td>\n",
       "      <td>150</td>\n",
       "    </tr>\n",
       "  </tbody>\n",
       "</table>\n",
       "</div>"
      ],
      "text/plain": [
       "      Date_x Day-Month  Hour  Energy for Mining (MW)     Date_y  \\\n",
       "0 2024-01-01     01-01     0                0.000000 2024-01-01   \n",
       "1 2024-01-01     01-01     1                0.000000 2024-01-01   \n",
       "2 2024-01-01     01-01     2                0.000000 2024-01-01   \n",
       "3 2024-01-01     01-01     3                0.000000 2024-01-01   \n",
       "4 2024-01-01     01-01     4                0.000000 2024-01-01   \n",
       "5 2024-01-01     01-01     5                0.000000 2024-01-01   \n",
       "6 2024-01-01     01-01     6                0.000000 2024-01-01   \n",
       "7 2024-01-01     01-01     7                0.000000 2024-01-01   \n",
       "8 2024-01-01     01-01     8               47.299103 2024-01-01   \n",
       "9 2024-01-01     01-01     9              112.589045 2024-01-01   \n",
       "\n",
       "   Energy Demand (MW)  \n",
       "0                   0  \n",
       "1                   0  \n",
       "2                   0  \n",
       "3                   0  \n",
       "4                   0  \n",
       "5                   0  \n",
       "6                 150  \n",
       "7                 150  \n",
       "8                 150  \n",
       "9                 150  "
      ]
     },
     "execution_count": 714,
     "metadata": {},
     "output_type": "execute_result"
    }
   ],
   "source": [
    "df_PV.head(10)"
   ]
  },
  {
   "cell_type": "code",
   "execution_count": 715,
   "metadata": {},
   "outputs": [
    {
     "data": {
      "text/plain": [
       "np.int64(876000)"
      ]
     },
     "execution_count": 715,
     "metadata": {},
     "output_type": "execute_result"
    }
   ],
   "source": [
    "df_PV['Energy Demand (MW)'].sum()"
   ]
  },
  {
   "cell_type": "code",
   "execution_count": 716,
   "metadata": {},
   "outputs": [
    {
     "data": {
      "text/plain": [
       "np.float64(48.20334139487624)"
      ]
     },
     "execution_count": 716,
     "metadata": {},
     "output_type": "execute_result"
    }
   ],
   "source": [
    "(df_PV['Energy Demand (MW)'].sum())*1000*Electricity_Cost_USD/1000000 #ELECTRICITY REVENUE\n",
    "\n"
   ]
  },
  {
   "cell_type": "code",
   "execution_count": 717,
   "metadata": {},
   "outputs": [
    {
     "data": {
      "text/plain": [
       "np.float64(334860.52823758405)"
      ]
     },
     "execution_count": 717,
     "metadata": {},
     "output_type": "execute_result"
    }
   ],
   "source": [
    "df_PV['Energy for Mining (MW)'].sum()"
   ]
  },
  {
   "cell_type": "code",
   "execution_count": 718,
   "metadata": {},
   "outputs": [
    {
     "data": {
      "text/html": [
       "<div>\n",
       "<style scoped>\n",
       "    .dataframe tbody tr th:only-of-type {\n",
       "        vertical-align: middle;\n",
       "    }\n",
       "\n",
       "    .dataframe tbody tr th {\n",
       "        vertical-align: top;\n",
       "    }\n",
       "\n",
       "    .dataframe thead th {\n",
       "        text-align: right;\n",
       "    }\n",
       "</style>\n",
       "<table border=\"1\" class=\"dataframe\">\n",
       "  <thead>\n",
       "    <tr style=\"text-align: right;\">\n",
       "      <th></th>\n",
       "      <th>Date</th>\n",
       "      <th>Hour</th>\n",
       "      <th>Energy for Mining (MW)</th>\n",
       "    </tr>\n",
       "  </thead>\n",
       "  <tbody>\n",
       "    <tr>\n",
       "      <th>0</th>\n",
       "      <td>2024-01-01</td>\n",
       "      <td>0</td>\n",
       "      <td>0.0</td>\n",
       "    </tr>\n",
       "    <tr>\n",
       "      <th>1</th>\n",
       "      <td>2024-01-01</td>\n",
       "      <td>1</td>\n",
       "      <td>0.0</td>\n",
       "    </tr>\n",
       "    <tr>\n",
       "      <th>2</th>\n",
       "      <td>2024-01-01</td>\n",
       "      <td>2</td>\n",
       "      <td>0.0</td>\n",
       "    </tr>\n",
       "    <tr>\n",
       "      <th>3</th>\n",
       "      <td>2024-01-01</td>\n",
       "      <td>3</td>\n",
       "      <td>0.0</td>\n",
       "    </tr>\n",
       "    <tr>\n",
       "      <th>4</th>\n",
       "      <td>2024-01-01</td>\n",
       "      <td>4</td>\n",
       "      <td>0.0</td>\n",
       "    </tr>\n",
       "  </tbody>\n",
       "</table>\n",
       "</div>"
      ],
      "text/plain": [
       "        Date  Hour  Energy for Mining (MW)\n",
       "0 2024-01-01     0                     0.0\n",
       "1 2024-01-01     1                     0.0\n",
       "2 2024-01-01     2                     0.0\n",
       "3 2024-01-01     3                     0.0\n",
       "4 2024-01-01     4                     0.0"
      ]
     },
     "execution_count": 718,
     "metadata": {},
     "output_type": "execute_result"
    }
   ],
   "source": [
    "df_PV['Date'] = df_PV['Date_x']\n",
    "relevant_columns = ['Date','Hour','Energy for Mining (MW)']\n",
    "df_PV = df_PV[relevant_columns]\n",
    "df_PV.head()"
   ]
  },
  {
   "cell_type": "code",
   "execution_count": 719,
   "metadata": {},
   "outputs": [
    {
     "data": {
      "text/plain": [
       "np.float64(334860.52823758405)"
      ]
     },
     "execution_count": 719,
     "metadata": {},
     "output_type": "execute_result"
    }
   ],
   "source": [
    "#Annual surplus energy in MW\n",
    "df_PV['Energy for Mining (MW)'].sum()"
   ]
  },
  {
   "cell_type": "code",
   "execution_count": 720,
   "metadata": {},
   "outputs": [
    {
     "data": {
      "text/plain": [
       "18.426251555142528"
      ]
     },
     "execution_count": 720,
     "metadata": {},
     "output_type": "execute_result"
    }
   ],
   "source": [
    "electricity_Sale = (0.0550266454279409*334860.52823758405*1000)/1000000\n",
    "electricity_Sale"
   ]
  },
  {
   "cell_type": "code",
   "execution_count": 721,
   "metadata": {},
   "outputs": [
    {
     "data": {
      "text/plain": [
       "(8760, 3)"
      ]
     },
     "execution_count": 721,
     "metadata": {},
     "output_type": "execute_result"
    }
   ],
   "source": [
    "#Size of dataframe\n",
    "df_PV.shape"
   ]
  },
  {
   "cell_type": "code",
   "execution_count": 722,
   "metadata": {},
   "outputs": [
    {
     "data": {
      "image/png": "[encoded data removed]",
      "text/plain": [
       "<Figure size 1000x600 with 1 Axes>"
      ]
     },
     "metadata": {},
     "output_type": "display_data"
    }
   ],
   "source": [
    "#Hours in a day with no Energy Production for Bitcoin\n",
    "df_zero_energy_output = df_PV[df_PV['Energy for Mining (MW)'] == 0]\n",
    "\n",
    "#Count the number of hours per day with zero energy output\n",
    "zero_hours_per_day = df_zero_energy_output.groupby('Date')['Hour'].count().reset_index()\n",
    "zero_hours_per_day.columns = ['Date', 'Zero_Hours']\n",
    "\n",
    "#Identify which hours have zero energy output for each day\n",
    "zero_hours_by_day = df_zero_energy_output.groupby('Date')['Hour'].apply(list).reset_index()\n",
    "\n",
    "#Display results: Plot bar chart for the number of zero energy output hours per day\n",
    "plt.figure(figsize=(10,6))\n",
    "plt.bar(zero_hours_per_day['Date'], zero_hours_per_day['Zero_Hours'])\n",
    "plt.xlabel('Date')\n",
    "plt.ylabel('Number of Zero Energy Output (Hours)')\n",
    "plt.title('Number of Zero Energy Output Hours per Day')\n",
    "plt.xticks(rotation=45, ha='right')\n",
    "plt.tight_layout()\n",
    "plt.show()"
   ]
  },
  {
   "cell_type": "code",
   "execution_count": 723,
   "metadata": {},
   "outputs": [
    {
     "data": {
      "image/png": "[encoded data removed]",
      "text/plain": [
       "<Figure size 800x600 with 1 Axes>"
      ]
     },
     "metadata": {},
     "output_type": "display_data"
    }
   ],
   "source": [
    "#Boxplot for the number of zero energy consumption hours per day\n",
    "plt.figure(figsize=(8, 6))\n",
    "sns.boxplot(x=zero_hours_per_day['Zero_Hours'])\n",
    "\n",
    "plt.xlabel('Number of Zero Energy Output (Hours)')\n",
    "plt.title('Box Plot of Zero Energy Available for Mining Hours per Day')\n",
    "plt.show()\n"
   ]
  },
  {
   "cell_type": "code",
   "execution_count": 724,
   "metadata": {},
   "outputs": [
    {
     "name": "stderr",
     "output_type": "stream",
     "text": [
      "C:\\Users\\HeldaMandlate\\AppData\\Local\\Temp\\ipykernel_33796\\2853649250.py:7: MatplotlibDeprecationWarning: The 'labels' parameter of boxplot() has been renamed 'tick_labels' since Matplotlib 3.9; support for the old name will be dropped in 3.11.\n",
      "  plt.boxplot(monthly_data, patch_artist=True, labels=[calendar.month_name[i] for i in range(1, 13)])\n"
     ]
    },
    {
     "data": {
      "image/png": "[encoded data removed]",
      "text/plain": [
       "<Figure size 1000x600 with 1 Axes>"
      ]
     },
     "metadata": {},
     "output_type": "display_data"
    }
   ],
   "source": [
    "#Box plot per month of Energy Available for Mining, ie: Surplus Energy\n",
    "df_PV['Month'] = df_PV['Date'].dt.month\n",
    "\n",
    "monthly_data = [df_PV[df_PV['Month'] == month]['Energy for Mining (MW)'] for month in range(1, 13)]\n",
    "\n",
    "plt.figure(figsize=(10, 6))\n",
    "plt.boxplot(monthly_data, patch_artist=True, labels=[calendar.month_name[i] for i in range(1, 13)])\n",
    "\n",
    "plt.title('Box Plot of Energy Available for Mining per Hour by Month')\n",
    "plt.xlabel('Month')\n",
    "plt.ylabel('Energy for Mining (MW)')\n",
    "plt.grid(True)\n",
    "plt.xticks(rotation=45, ha='right')\n",
    "plt.show()"
   ]
  },
  {
   "cell_type": "code",
   "execution_count": 725,
   "metadata": {},
   "outputs": [
    {
     "data": {
      "image/png": "[encoded data removed]",
      "text/plain": [
       "<Figure size 640x480 with 1 Axes>"
      ]
     },
     "metadata": {},
     "output_type": "display_data"
    }
   ],
   "source": [
    "#Boxplot to view data distribution on Surplus per hour in one year\n",
    "\n",
    "plt.boxplot([df_PV['Energy for Mining (MW)']], vert=False, patch_artist=True)\n",
    "plt.title('Box Plot of Energy Available for Mining (MW)')\n",
    "plt.xlabel('Energy for Mining (W)')\n",
    "plt.grid(True)\n",
    "plt.show()"
   ]
  },
  {
   "cell_type": "code",
   "execution_count": 726,
   "metadata": {},
   "outputs": [
    {
     "data": {
      "text/html": [
       "<div>\n",
       "<style scoped>\n",
       "    .dataframe tbody tr th:only-of-type {\n",
       "        vertical-align: middle;\n",
       "    }\n",
       "\n",
       "    .dataframe tbody tr th {\n",
       "        vertical-align: top;\n",
       "    }\n",
       "\n",
       "    .dataframe thead th {\n",
       "        text-align: right;\n",
       "    }\n",
       "</style>\n",
       "<table border=\"1\" class=\"dataframe\">\n",
       "  <thead>\n",
       "    <tr style=\"text-align: right;\">\n",
       "      <th></th>\n",
       "      <th>Model</th>\n",
       "      <th>Release</th>\n",
       "      <th>Hashrate (Th/s)</th>\n",
       "      <th>Power (W)</th>\n",
       "      <th>Algorithm</th>\n",
       "      <th>Income ($/day)</th>\n",
       "      <th>Electricity Cost ($/day)</th>\n",
       "      <th>With Electricity</th>\n",
       "      <th>Without Electricity</th>\n",
       "      <th>Efficiency (j/Gh)</th>\n",
       "      <th>Price ($)</th>\n",
       "      <th>Noise db</th>\n",
       "      <th>Cooling</th>\n",
       "      <th>Seller</th>\n",
       "      <th>Days to Breakeven</th>\n",
       "      <th>Rig Type</th>\n",
       "    </tr>\n",
       "  </thead>\n",
       "  <tbody>\n",
       "    <tr>\n",
       "      <th>0</th>\n",
       "      <td>MicroBT WhatsMiner M63S</td>\n",
       "      <td>01-Nov-23</td>\n",
       "      <td>390.0</td>\n",
       "      <td>7215.0</td>\n",
       "      <td>SHA-256</td>\n",
       "      <td>20.29</td>\n",
       "      <td>-20.78</td>\n",
       "      <td>-0.49</td>\n",
       "      <td>20.29</td>\n",
       "      <td>0.019</td>\n",
       "      <td>12449.0</td>\n",
       "      <td>50.0</td>\n",
       "      <td>hydrocooling</td>\n",
       "      <td>AsicMarketPlace</td>\n",
       "      <td>613.553475</td>\n",
       "      <td>ASIC</td>\n",
       "    </tr>\n",
       "    <tr>\n",
       "      <th>1</th>\n",
       "      <td>Bitmain Antminer S21 Hyd (335Th)</td>\n",
       "      <td>01-Feb-24</td>\n",
       "      <td>335.0</td>\n",
       "      <td>5360.0</td>\n",
       "      <td>SHA-256</td>\n",
       "      <td>17.43</td>\n",
       "      <td>-15.44</td>\n",
       "      <td>1.99</td>\n",
       "      <td>17.43</td>\n",
       "      <td>0.016</td>\n",
       "      <td>5889.0</td>\n",
       "      <td>50.0</td>\n",
       "      <td>hydrocooling</td>\n",
       "      <td>AsicMarketPlace</td>\n",
       "      <td>337.865749</td>\n",
       "      <td>ASIC</td>\n",
       "    </tr>\n",
       "    <tr>\n",
       "      <th>2</th>\n",
       "      <td>MicroBT WhatsMiner M63</td>\n",
       "      <td>01-Nov-23</td>\n",
       "      <td>334.0</td>\n",
       "      <td>6646.0</td>\n",
       "      <td>SHA-256</td>\n",
       "      <td>17.38</td>\n",
       "      <td>-19.14</td>\n",
       "      <td>-1.76</td>\n",
       "      <td>17.38</td>\n",
       "      <td>0.020</td>\n",
       "      <td>6879.0</td>\n",
       "      <td>50.0</td>\n",
       "      <td>hydrocooling</td>\n",
       "      <td>AsicMarketPlace</td>\n",
       "      <td>395.799770</td>\n",
       "      <td>ASIC</td>\n",
       "    </tr>\n",
       "    <tr>\n",
       "      <th>3</th>\n",
       "      <td>MicroBT WhatsMiner M66S</td>\n",
       "      <td>01-Nov-23</td>\n",
       "      <td>298.0</td>\n",
       "      <td>5513.0</td>\n",
       "      <td>SHA-256</td>\n",
       "      <td>15.51</td>\n",
       "      <td>-15.88</td>\n",
       "      <td>-0.37</td>\n",
       "      <td>15.51</td>\n",
       "      <td>0.019</td>\n",
       "      <td>9649.0</td>\n",
       "      <td>50.0</td>\n",
       "      <td>hydrocooling</td>\n",
       "      <td>AsicMarketPlace</td>\n",
       "      <td>622.114765</td>\n",
       "      <td>ASIC</td>\n",
       "    </tr>\n",
       "    <tr>\n",
       "      <th>4</th>\n",
       "      <td>Bitmain Antminer S21 Pro (234Th)</td>\n",
       "      <td>01-Jul-24</td>\n",
       "      <td>234.0</td>\n",
       "      <td>3531.0</td>\n",
       "      <td>SHA-256</td>\n",
       "      <td>12.18</td>\n",
       "      <td>-10.17</td>\n",
       "      <td>2.01</td>\n",
       "      <td>12.18</td>\n",
       "      <td>0.015</td>\n",
       "      <td>5029.0</td>\n",
       "      <td>75.0</td>\n",
       "      <td>2 fans</td>\n",
       "      <td>AsicMarketPlace</td>\n",
       "      <td>412.889984</td>\n",
       "      <td>ASIC</td>\n",
       "    </tr>\n",
       "  </tbody>\n",
       "</table>\n",
       "</div>"
      ],
      "text/plain": [
       "                              Model    Release  Hashrate (Th/s)  Power (W)  \\\n",
       "0           MicroBT WhatsMiner M63S  01-Nov-23            390.0     7215.0   \n",
       "1  Bitmain Antminer S21 Hyd (335Th)  01-Feb-24            335.0     5360.0   \n",
       "2            MicroBT WhatsMiner M63  01-Nov-23            334.0     6646.0   \n",
       "3           MicroBT WhatsMiner M66S  01-Nov-23            298.0     5513.0   \n",
       "4  Bitmain Antminer S21 Pro (234Th)  01-Jul-24            234.0     3531.0   \n",
       "\n",
       "  Algorithm  Income ($/day)  Electricity Cost ($/day)  With Electricity  \\\n",
       "0   SHA-256           20.29                    -20.78             -0.49   \n",
       "1   SHA-256           17.43                    -15.44              1.99   \n",
       "2   SHA-256           17.38                    -19.14             -1.76   \n",
       "3   SHA-256           15.51                    -15.88             -0.37   \n",
       "4   SHA-256           12.18                    -10.17              2.01   \n",
       "\n",
       "   Without Electricity  Efficiency (j/Gh)  Price ($)  Noise db       Cooling  \\\n",
       "0                20.29              0.019    12449.0      50.0  hydrocooling   \n",
       "1                17.43              0.016     5889.0      50.0  hydrocooling   \n",
       "2                17.38              0.020     6879.0      50.0  hydrocooling   \n",
       "3                15.51              0.019     9649.0      50.0  hydrocooling   \n",
       "4                12.18              0.015     5029.0      75.0        2 fans   \n",
       "\n",
       "            Seller  Days to Breakeven Rig Type  \n",
       "0  AsicMarketPlace         613.553475     ASIC  \n",
       "1  AsicMarketPlace         337.865749     ASIC  \n",
       "2  AsicMarketPlace         395.799770     ASIC  \n",
       "3  AsicMarketPlace         622.114765     ASIC  \n",
       "4  AsicMarketPlace         412.889984     ASIC  "
      ]
     },
     "execution_count": 726,
     "metadata": {},
     "output_type": "execute_result"
    }
   ],
   "source": [
    "ASIC_df = ASIC_df.loc[ASIC_df['Rig Type'] == 'ASIC']\n",
    "ASIC_df.head()"
   ]
  },
  {
   "cell_type": "code",
   "execution_count": 727,
   "metadata": {},
   "outputs": [
    {
     "data": {
      "text/plain": [
       "Index(['Model', 'Release', 'Hashrate (Th/s)', 'Power (W)', 'Algorithm',\n",
       "       'Income ($/day)', 'Electricity Cost ($/day)', 'With Electricity',\n",
       "       'Without Electricity', 'Efficiency (j/Gh)', 'Price ($)', 'Noise db',\n",
       "       'Cooling', 'Seller', 'Days to Breakeven', 'Rig Type'],\n",
       "      dtype='object')"
      ]
     },
     "execution_count": 727,
     "metadata": {},
     "output_type": "execute_result"
    }
   ],
   "source": [
    "ASIC_df.columns"
   ]
  },
  {
   "cell_type": "code",
   "execution_count": 728,
   "metadata": {},
   "outputs": [
    {
     "name": "stdout",
     "output_type": "stream",
     "text": [
      "dict_Release -> {'MicroBT WhatsMiner M63S': '01-Nov-23', 'Bitmain Antminer S21 Hyd (335Th)': '01-Feb-24', 'MicroBT WhatsMiner M63': '01-Nov-23', 'MicroBT WhatsMiner M66S': '01-Nov-23', 'Bitmain Antminer S21 Pro (234Th)': '01-Jul-24', 'Bitmain Antminer S21 (200Th)': '01-Feb-24', 'Bitmain Antminer T21 (190Th)': '01-Feb-24', 'MicroBT WhatsMiner M60S': '01-Feb-24', 'Canaan Avalon A1566': '01-Oct-24', 'MicroBT WhatsMiner M60': '01-Feb-24', 'Bitmain Antminer S19j Pro (104Th)': '01-Jul-21', 'Bitmain Antminer S19 Pro (110Th)': '01-May-20'}\n",
      "dict_Hashrate (Th/s) -> {'MicroBT WhatsMiner M63S': 390.0, 'Bitmain Antminer S21 Hyd (335Th)': 335.0, 'MicroBT WhatsMiner M63': 334.0, 'MicroBT WhatsMiner M66S': 298.0, 'Bitmain Antminer S21 Pro (234Th)': 234.0, 'Bitmain Antminer S21 (200Th)': 200.0, 'Bitmain Antminer T21 (190Th)': 190.0, 'MicroBT WhatsMiner M60S': 186.0, 'Canaan Avalon A1566': 185.0, 'MicroBT WhatsMiner M60': 172.0, 'Bitmain Antminer S19j Pro (104Th)': 104.0, 'Bitmain Antminer S19 Pro (110Th)': 110.0}\n",
      "dict_Power (W) -> {'MicroBT WhatsMiner M63S': 7215.0, 'Bitmain Antminer S21 Hyd (335Th)': 5360.0, 'MicroBT WhatsMiner M63': 6646.0, 'MicroBT WhatsMiner M66S': 5513.0, 'Bitmain Antminer S21 Pro (234Th)': 3531.0, 'Bitmain Antminer S21 (200Th)': 3550.0, 'Bitmain Antminer T21 (190Th)': 3610.0, 'MicroBT WhatsMiner M60S': 3441.0, 'Canaan Avalon A1566': 3420.0, 'MicroBT WhatsMiner M60': 3422.0, 'Bitmain Antminer S19j Pro (104Th)': 3068.0, 'Bitmain Antminer S19 Pro (110Th)': 3250.0}\n",
      "dict_Algorithm -> {'MicroBT WhatsMiner M63S': 'SHA-256', 'Bitmain Antminer S21 Hyd (335Th)': 'SHA-256', 'MicroBT WhatsMiner M63': 'SHA-256', 'MicroBT WhatsMiner M66S': 'SHA-256', 'Bitmain Antminer S21 Pro (234Th)': 'SHA-256', 'Bitmain Antminer S21 (200Th)': 'SHA-256', 'Bitmain Antminer T21 (190Th)': 'SHA-256', 'MicroBT WhatsMiner M60S': 'SHA-256', 'Canaan Avalon A1566': 'SHA-256', 'MicroBT WhatsMiner M60': 'SHA-256', 'Bitmain Antminer S19j Pro (104Th)': 'SHA-256', 'Bitmain Antminer S19 Pro (110Th)': 'SHA-256'}\n",
      "dict_Income ($/day) -> {'MicroBT WhatsMiner M63S': 20.29, 'Bitmain Antminer S21 Hyd (335Th)': 17.43, 'MicroBT WhatsMiner M63': 17.38, 'MicroBT WhatsMiner M66S': 15.51, 'Bitmain Antminer S21 Pro (234Th)': 12.18, 'Bitmain Antminer S21 (200Th)': 10.41, 'Bitmain Antminer T21 (190Th)': 9.89, 'MicroBT WhatsMiner M60S': 9.68, 'Canaan Avalon A1566': 9.63, 'MicroBT WhatsMiner M60': 8.95, 'Bitmain Antminer S19j Pro (104Th)': 4.58, 'Bitmain Antminer S19 Pro (110Th)': 4.84}\n",
      "dict_Electricity Cost ($/day) -> {'MicroBT WhatsMiner M63S': -20.78, 'Bitmain Antminer S21 Hyd (335Th)': -15.44, 'MicroBT WhatsMiner M63': -19.14, 'MicroBT WhatsMiner M66S': -15.88, 'Bitmain Antminer S21 Pro (234Th)': -10.17, 'Bitmain Antminer S21 (200Th)': -10.08, 'Bitmain Antminer T21 (190Th)': -10.4, 'MicroBT WhatsMiner M60S': -9.91, 'Canaan Avalon A1566': -9.85, 'MicroBT WhatsMiner M60': -9.86, 'Bitmain Antminer S19j Pro (104Th)': -8.84, 'Bitmain Antminer S19 Pro (110Th)': -9.36}\n",
      "dict_With Electricity -> {'MicroBT WhatsMiner M63S': -0.49, 'Bitmain Antminer S21 Hyd (335Th)': 1.99, 'MicroBT WhatsMiner M63': -1.76, 'MicroBT WhatsMiner M66S': -0.37, 'Bitmain Antminer S21 Pro (234Th)': 2.01, 'Bitmain Antminer S21 (200Th)': 0.33, 'Bitmain Antminer T21 (190Th)': -0.51, 'MicroBT WhatsMiner M60S': -0.23, 'Canaan Avalon A1566': -0.22, 'MicroBT WhatsMiner M60': -0.91, 'Bitmain Antminer S19j Pro (104Th)': -4.26, 'Bitmain Antminer S19 Pro (110Th)': -4.52}\n",
      "dict_Without Electricity -> {'MicroBT WhatsMiner M63S': 20.29, 'Bitmain Antminer S21 Hyd (335Th)': 17.43, 'MicroBT WhatsMiner M63': 17.38, 'MicroBT WhatsMiner M66S': 15.51, 'Bitmain Antminer S21 Pro (234Th)': 12.18, 'Bitmain Antminer S21 (200Th)': 10.41, 'Bitmain Antminer T21 (190Th)': 9.89, 'MicroBT WhatsMiner M60S': 9.68, 'Canaan Avalon A1566': 9.63, 'MicroBT WhatsMiner M60': 8.95, 'Bitmain Antminer S19j Pro (104Th)': 4.58, 'Bitmain Antminer S19 Pro (110Th)': 4.84}\n",
      "dict_Efficiency (j/Gh) -> {'MicroBT WhatsMiner M63S': 0.019, 'Bitmain Antminer S21 Hyd (335Th)': 0.016, 'MicroBT WhatsMiner M63': 0.02, 'MicroBT WhatsMiner M66S': 0.019, 'Bitmain Antminer S21 Pro (234Th)': 0.015, 'Bitmain Antminer S21 (200Th)': 0.017, 'Bitmain Antminer T21 (190Th)': 0.019, 'MicroBT WhatsMiner M60S': 0.019, 'Canaan Avalon A1566': 0.018, 'MicroBT WhatsMiner M60': 0.02, 'Bitmain Antminer S19j Pro (104Th)': 0.03, 'Bitmain Antminer S19 Pro (110Th)': 0.03}\n",
      "dict_Price ($) -> {'MicroBT WhatsMiner M63S': 12449.0, 'Bitmain Antminer S21 Hyd (335Th)': 5889.0, 'MicroBT WhatsMiner M63': 6879.0, 'MicroBT WhatsMiner M66S': 9649.0, 'Bitmain Antminer S21 Pro (234Th)': 5029.0, 'Bitmain Antminer S21 (200Th)': 2949.0, 'Bitmain Antminer T21 (190Th)': 3159.0, 'MicroBT WhatsMiner M60S': 3829.0, 'Canaan Avalon A1566': 5359.67, 'MicroBT WhatsMiner M60': 3329.0, 'Bitmain Antminer S19j Pro (104Th)': 770.0, 'Bitmain Antminer S19 Pro (110Th)': 812.0}\n",
      "dict_Noise db -> {'MicroBT WhatsMiner M63S': 50.0, 'Bitmain Antminer S21 Hyd (335Th)': 50.0, 'MicroBT WhatsMiner M63': 50.0, 'MicroBT WhatsMiner M66S': 50.0, 'Bitmain Antminer S21 Pro (234Th)': 75.0, 'Bitmain Antminer S21 (200Th)': 75.0, 'Bitmain Antminer T21 (190Th)': 75.0, 'MicroBT WhatsMiner M60S': 75.0, 'Canaan Avalon A1566': 75.0, 'MicroBT WhatsMiner M60': 75.0, 'Bitmain Antminer S19j Pro (104Th)': 75.0, 'Bitmain Antminer S19 Pro (110Th)': 75.0}\n",
      "dict_Cooling -> {'MicroBT WhatsMiner M63S': 'hydrocooling', 'Bitmain Antminer S21 Hyd (335Th)': 'hydrocooling', 'MicroBT WhatsMiner M63': 'hydrocooling', 'MicroBT WhatsMiner M66S': 'hydrocooling', 'Bitmain Antminer S21 Pro (234Th)': '2 fans', 'Bitmain Antminer S21 (200Th)': '2 fans', 'Bitmain Antminer T21 (190Th)': '2 fans', 'MicroBT WhatsMiner M60S': '2 fans', 'Canaan Avalon A1566': '2 fans', 'MicroBT WhatsMiner M60': '2 fans', 'Bitmain Antminer S19j Pro (104Th)': '4 fans', 'Bitmain Antminer S19 Pro (110Th)': '4 fans'}\n",
      "dict_Seller -> {'MicroBT WhatsMiner M63S': 'AsicMarketPlace', 'Bitmain Antminer S21 Hyd (335Th)': 'AsicMarketPlace', 'MicroBT WhatsMiner M63': 'AsicMarketPlace', 'MicroBT WhatsMiner M66S': 'AsicMarketPlace', 'Bitmain Antminer S21 Pro (234Th)': 'AsicMarketPlace', 'Bitmain Antminer S21 (200Th)': 'AsicMarketPlace', 'Bitmain Antminer T21 (190Th)': 'AsicMarketPlace', 'MicroBT WhatsMiner M60S': 'AsicMarketPlace', 'Canaan Avalon A1566': 'MillionMiner', 'MicroBT WhatsMiner M60': 'AsicMarketPlace', 'Bitmain Antminer S19j Pro (104Th)': 'Apexto Mining', 'Bitmain Antminer S19 Pro (110Th)': 'Scminer'}\n",
      "dict_Days to Breakeven -> {'MicroBT WhatsMiner M63S': 613.553475, 'Bitmain Antminer S21 Hyd (335Th)': 337.865749, 'MicroBT WhatsMiner M63': 395.79977, 'MicroBT WhatsMiner M66S': 622.114765, 'Bitmain Antminer S21 Pro (234Th)': 412.889984, 'Bitmain Antminer S21 (200Th)': 283.285303, 'Bitmain Antminer T21 (190Th)': 319.413549, 'MicroBT WhatsMiner M60S': 395.557851, 'Canaan Avalon A1566': 556.559709, 'MicroBT WhatsMiner M60': 371.955307, 'Bitmain Antminer S19j Pro (104Th)': 168.122271, 'Bitmain Antminer S19 Pro (110Th)': 167.768595}\n"
     ]
    }
   ],
   "source": [
    "#Create dictionary with ASIC data\n",
    "\n",
    "column_pairs = ['Release', 'Hashrate (Th/s)', 'Power (W)', 'Algorithm',\n",
    "       'Income ($/day)', 'Electricity Cost ($/day)', 'With Electricity',\n",
    "       'Without Electricity', 'Efficiency (j/Gh)', 'Price ($)', 'Noise db',\n",
    "       'Cooling', 'Seller', 'Days to Breakeven']\n",
    "dicts = {}\n",
    "\n",
    "for col in column_pairs:\n",
    "    dict_name = f\"dict_{col}\"\n",
    "    dicts[dict_name] = ASIC_df.set_index('Model')[col].to_dict()\n",
    "\n",
    "for name, dictionary in dicts.items():\n",
    "    print(f\"{name} -> {dictionary}\")"
   ]
  },
  {
   "cell_type": "code",
   "execution_count": 729,
   "metadata": {},
   "outputs": [
    {
     "data": {
      "text/html": [
       "<div>\n",
       "<style scoped>\n",
       "    .dataframe tbody tr th:only-of-type {\n",
       "        vertical-align: middle;\n",
       "    }\n",
       "\n",
       "    .dataframe tbody tr th {\n",
       "        vertical-align: top;\n",
       "    }\n",
       "\n",
       "    .dataframe thead th {\n",
       "        text-align: right;\n",
       "    }\n",
       "</style>\n",
       "<table border=\"1\" class=\"dataframe\">\n",
       "  <thead>\n",
       "    <tr style=\"text-align: right;\">\n",
       "      <th></th>\n",
       "      <th>Date</th>\n",
       "      <th>Hour</th>\n",
       "      <th>Energy for Mining (MW)</th>\n",
       "      <th>Month</th>\n",
       "      <th>MicroBT WhatsMiner M63S</th>\n",
       "      <th>Bitmain Antminer S21 Hyd (335Th)</th>\n",
       "      <th>MicroBT WhatsMiner M63</th>\n",
       "      <th>MicroBT WhatsMiner M66S</th>\n",
       "      <th>Bitmain Antminer S21 Pro (234Th)</th>\n",
       "      <th>Bitmain Antminer S21 (200Th)</th>\n",
       "      <th>Bitmain Antminer T21 (190Th)</th>\n",
       "      <th>MicroBT WhatsMiner M60S</th>\n",
       "      <th>Canaan Avalon A1566</th>\n",
       "      <th>MicroBT WhatsMiner M60</th>\n",
       "      <th>Bitmain Antminer S19j Pro (104Th)</th>\n",
       "      <th>Bitmain Antminer S19 Pro (110Th)</th>\n",
       "    </tr>\n",
       "  </thead>\n",
       "  <tbody>\n",
       "    <tr>\n",
       "      <th>0</th>\n",
       "      <td>2024-01-01</td>\n",
       "      <td>0</td>\n",
       "      <td>0.000000</td>\n",
       "      <td>1</td>\n",
       "      <td>0</td>\n",
       "      <td>0</td>\n",
       "      <td>0</td>\n",
       "      <td>0</td>\n",
       "      <td>0</td>\n",
       "      <td>0</td>\n",
       "      <td>0</td>\n",
       "      <td>0</td>\n",
       "      <td>0</td>\n",
       "      <td>0</td>\n",
       "      <td>0</td>\n",
       "      <td>0</td>\n",
       "    </tr>\n",
       "    <tr>\n",
       "      <th>1</th>\n",
       "      <td>2024-01-01</td>\n",
       "      <td>1</td>\n",
       "      <td>0.000000</td>\n",
       "      <td>1</td>\n",
       "      <td>0</td>\n",
       "      <td>0</td>\n",
       "      <td>0</td>\n",
       "      <td>0</td>\n",
       "      <td>0</td>\n",
       "      <td>0</td>\n",
       "      <td>0</td>\n",
       "      <td>0</td>\n",
       "      <td>0</td>\n",
       "      <td>0</td>\n",
       "      <td>0</td>\n",
       "      <td>0</td>\n",
       "    </tr>\n",
       "    <tr>\n",
       "      <th>2</th>\n",
       "      <td>2024-01-01</td>\n",
       "      <td>2</td>\n",
       "      <td>0.000000</td>\n",
       "      <td>1</td>\n",
       "      <td>0</td>\n",
       "      <td>0</td>\n",
       "      <td>0</td>\n",
       "      <td>0</td>\n",
       "      <td>0</td>\n",
       "      <td>0</td>\n",
       "      <td>0</td>\n",
       "      <td>0</td>\n",
       "      <td>0</td>\n",
       "      <td>0</td>\n",
       "      <td>0</td>\n",
       "      <td>0</td>\n",
       "    </tr>\n",
       "    <tr>\n",
       "      <th>3</th>\n",
       "      <td>2024-01-01</td>\n",
       "      <td>3</td>\n",
       "      <td>0.000000</td>\n",
       "      <td>1</td>\n",
       "      <td>0</td>\n",
       "      <td>0</td>\n",
       "      <td>0</td>\n",
       "      <td>0</td>\n",
       "      <td>0</td>\n",
       "      <td>0</td>\n",
       "      <td>0</td>\n",
       "      <td>0</td>\n",
       "      <td>0</td>\n",
       "      <td>0</td>\n",
       "      <td>0</td>\n",
       "      <td>0</td>\n",
       "    </tr>\n",
       "    <tr>\n",
       "      <th>4</th>\n",
       "      <td>2024-01-01</td>\n",
       "      <td>4</td>\n",
       "      <td>0.000000</td>\n",
       "      <td>1</td>\n",
       "      <td>0</td>\n",
       "      <td>0</td>\n",
       "      <td>0</td>\n",
       "      <td>0</td>\n",
       "      <td>0</td>\n",
       "      <td>0</td>\n",
       "      <td>0</td>\n",
       "      <td>0</td>\n",
       "      <td>0</td>\n",
       "      <td>0</td>\n",
       "      <td>0</td>\n",
       "      <td>0</td>\n",
       "    </tr>\n",
       "    <tr>\n",
       "      <th>5</th>\n",
       "      <td>2024-01-01</td>\n",
       "      <td>5</td>\n",
       "      <td>0.000000</td>\n",
       "      <td>1</td>\n",
       "      <td>0</td>\n",
       "      <td>0</td>\n",
       "      <td>0</td>\n",
       "      <td>0</td>\n",
       "      <td>0</td>\n",
       "      <td>0</td>\n",
       "      <td>0</td>\n",
       "      <td>0</td>\n",
       "      <td>0</td>\n",
       "      <td>0</td>\n",
       "      <td>0</td>\n",
       "      <td>0</td>\n",
       "    </tr>\n",
       "    <tr>\n",
       "      <th>6</th>\n",
       "      <td>2024-01-01</td>\n",
       "      <td>6</td>\n",
       "      <td>0.000000</td>\n",
       "      <td>1</td>\n",
       "      <td>0</td>\n",
       "      <td>0</td>\n",
       "      <td>0</td>\n",
       "      <td>0</td>\n",
       "      <td>0</td>\n",
       "      <td>0</td>\n",
       "      <td>0</td>\n",
       "      <td>0</td>\n",
       "      <td>0</td>\n",
       "      <td>0</td>\n",
       "      <td>0</td>\n",
       "      <td>0</td>\n",
       "    </tr>\n",
       "    <tr>\n",
       "      <th>7</th>\n",
       "      <td>2024-01-01</td>\n",
       "      <td>7</td>\n",
       "      <td>0.000000</td>\n",
       "      <td>1</td>\n",
       "      <td>0</td>\n",
       "      <td>0</td>\n",
       "      <td>0</td>\n",
       "      <td>0</td>\n",
       "      <td>0</td>\n",
       "      <td>0</td>\n",
       "      <td>0</td>\n",
       "      <td>0</td>\n",
       "      <td>0</td>\n",
       "      <td>0</td>\n",
       "      <td>0</td>\n",
       "      <td>0</td>\n",
       "    </tr>\n",
       "    <tr>\n",
       "      <th>8</th>\n",
       "      <td>2024-01-01</td>\n",
       "      <td>8</td>\n",
       "      <td>47.299103</td>\n",
       "      <td>1</td>\n",
       "      <td>6556</td>\n",
       "      <td>8825</td>\n",
       "      <td>7117</td>\n",
       "      <td>8580</td>\n",
       "      <td>13396</td>\n",
       "      <td>13324</td>\n",
       "      <td>13103</td>\n",
       "      <td>13746</td>\n",
       "      <td>13831</td>\n",
       "      <td>13823</td>\n",
       "      <td>15417</td>\n",
       "      <td>14554</td>\n",
       "    </tr>\n",
       "    <tr>\n",
       "      <th>9</th>\n",
       "      <td>2024-01-01</td>\n",
       "      <td>9</td>\n",
       "      <td>112.589045</td>\n",
       "      <td>1</td>\n",
       "      <td>15605</td>\n",
       "      <td>21006</td>\n",
       "      <td>16941</td>\n",
       "      <td>20423</td>\n",
       "      <td>31886</td>\n",
       "      <td>31716</td>\n",
       "      <td>31189</td>\n",
       "      <td>32720</td>\n",
       "      <td>32921</td>\n",
       "      <td>32902</td>\n",
       "      <td>36698</td>\n",
       "      <td>34643</td>\n",
       "    </tr>\n",
       "  </tbody>\n",
       "</table>\n",
       "</div>"
      ],
      "text/plain": [
       "        Date  Hour  Energy for Mining (MW)  Month  MicroBT WhatsMiner M63S  \\\n",
       "0 2024-01-01     0                0.000000      1                        0   \n",
       "1 2024-01-01     1                0.000000      1                        0   \n",
       "2 2024-01-01     2                0.000000      1                        0   \n",
       "3 2024-01-01     3                0.000000      1                        0   \n",
       "4 2024-01-01     4                0.000000      1                        0   \n",
       "5 2024-01-01     5                0.000000      1                        0   \n",
       "6 2024-01-01     6                0.000000      1                        0   \n",
       "7 2024-01-01     7                0.000000      1                        0   \n",
       "8 2024-01-01     8               47.299103      1                     6556   \n",
       "9 2024-01-01     9              112.589045      1                    15605   \n",
       "\n",
       "   Bitmain Antminer S21 Hyd (335Th)  MicroBT WhatsMiner M63  \\\n",
       "0                                 0                       0   \n",
       "1                                 0                       0   \n",
       "2                                 0                       0   \n",
       "3                                 0                       0   \n",
       "4                                 0                       0   \n",
       "5                                 0                       0   \n",
       "6                                 0                       0   \n",
       "7                                 0                       0   \n",
       "8                              8825                    7117   \n",
       "9                             21006                   16941   \n",
       "\n",
       "   MicroBT WhatsMiner M66S  Bitmain Antminer S21 Pro (234Th)  \\\n",
       "0                        0                                 0   \n",
       "1                        0                                 0   \n",
       "2                        0                                 0   \n",
       "3                        0                                 0   \n",
       "4                        0                                 0   \n",
       "5                        0                                 0   \n",
       "6                        0                                 0   \n",
       "7                        0                                 0   \n",
       "8                     8580                             13396   \n",
       "9                    20423                             31886   \n",
       "\n",
       "   Bitmain Antminer S21 (200Th)  Bitmain Antminer T21 (190Th)  \\\n",
       "0                             0                             0   \n",
       "1                             0                             0   \n",
       "2                             0                             0   \n",
       "3                             0                             0   \n",
       "4                             0                             0   \n",
       "5                             0                             0   \n",
       "6                             0                             0   \n",
       "7                             0                             0   \n",
       "8                         13324                         13103   \n",
       "9                         31716                         31189   \n",
       "\n",
       "   MicroBT WhatsMiner M60S  Canaan Avalon A1566  MicroBT WhatsMiner M60  \\\n",
       "0                        0                    0                       0   \n",
       "1                        0                    0                       0   \n",
       "2                        0                    0                       0   \n",
       "3                        0                    0                       0   \n",
       "4                        0                    0                       0   \n",
       "5                        0                    0                       0   \n",
       "6                        0                    0                       0   \n",
       "7                        0                    0                       0   \n",
       "8                    13746                13831                   13823   \n",
       "9                    32720                32921                   32902   \n",
       "\n",
       "   Bitmain Antminer S19j Pro (104Th)  Bitmain Antminer S19 Pro (110Th)  \n",
       "0                                  0                                 0  \n",
       "1                                  0                                 0  \n",
       "2                                  0                                 0  \n",
       "3                                  0                                 0  \n",
       "4                                  0                                 0  \n",
       "5                                  0                                 0  \n",
       "6                                  0                                 0  \n",
       "7                                  0                                 0  \n",
       "8                              15417                             14554  \n",
       "9                              36698                             34643  "
      ]
     },
     "execution_count": 729,
     "metadata": {},
     "output_type": "execute_result"
    }
   ],
   "source": [
    "# Number of Rigs per Model\n",
    "for model, power_ in dicts['dict_Power (W)'].items():\n",
    "    df_PV[model] = (np.ceil(df_PV['Energy for Mining (MW)'] * 1_000_000 / power_)).astype(int)\n",
    "\n",
    "df_PV.head(10)\n"
   ]
  },
  {
   "cell_type": "code",
   "execution_count": 730,
   "metadata": {},
   "outputs": [],
   "source": [
    "df_PV_copy = df_PV.copy()"
   ]
  },
  {
   "cell_type": "code",
   "execution_count": 731,
   "metadata": {},
   "outputs": [
    {
     "data": {
      "text/plain": [
       "Index(['Date', 'Hour', 'Energy for Mining (MW)', 'Month',\n",
       "       'MicroBT WhatsMiner M63S', 'Bitmain Antminer S21 Hyd (335Th)',\n",
       "       'MicroBT WhatsMiner M63', 'MicroBT WhatsMiner M66S',\n",
       "       'Bitmain Antminer S21 Pro (234Th)', 'Bitmain Antminer S21 (200Th)',\n",
       "       'Bitmain Antminer T21 (190Th)', 'MicroBT WhatsMiner M60S',\n",
       "       'Canaan Avalon A1566', 'MicroBT WhatsMiner M60',\n",
       "       'Bitmain Antminer S19j Pro (104Th)',\n",
       "       'Bitmain Antminer S19 Pro (110Th)'],\n",
       "      dtype='object')"
      ]
     },
     "execution_count": 731,
     "metadata": {},
     "output_type": "execute_result"
    }
   ],
   "source": [
    "df_PV.columns"
   ]
  },
  {
   "cell_type": "code",
   "execution_count": 732,
   "metadata": {},
   "outputs": [],
   "source": [
    "columns_to_exclude = ['Date', 'Hour', 'Energy for Mining (MW)', 'Month',\n",
    "       #'MicroBT WhatsMiner M63S',\n",
    "       #'Bitmain Antminer S21 Hyd (335Th)', 'MicroBT WhatsMiner M63',\n",
    "       #'MicroBT WhatsMiner M66S', 'Bitmain Antminer S21 Pro (234Th)',\n",
    "       #'Bitmain Antminer S21 (200Th)', 'Bitmain Antminer T21 (190Th)',\n",
    "       #'MicroBT WhatsMiner M60S', 'Canaan Avalon A1566',\n",
    "       #'MicroBT WhatsMiner M60', 'Bitmain Antminer S19j Pro (104Th)',\n",
    "       #'Bitmain Antminer S19 Pro (110Th)'\n",
    "       ]"
   ]
  },
  {
   "cell_type": "code",
   "execution_count": 733,
   "metadata": {},
   "outputs": [
    {
     "data": {
      "image/png": "[encoded data removed]",
      "text/plain": [
       "<Figure size 1200x800 with 1 Axes>"
      ]
     },
     "metadata": {},
     "output_type": "display_data"
    }
   ],
   "source": [
    "plt.figure(figsize=(12, 8))\n",
    "\n",
    "columns_to_plot = df_PV.columns.difference(columns_to_exclude)\n",
    "\n",
    "sns.boxplot(data=df_PV[columns_to_plot])\n",
    "\n",
    "plt.title('Distribution of Number of Rigs for Each ASIC Model', fontsize=16)\n",
    "plt.xticks(rotation=90)\n",
    "plt.ylabel('Number of Rigs')\n",
    "plt.xticks(rotation=45, ha='right')\n",
    "\n",
    "plt.tight_layout()\n",
    "plt.show()"
   ]
  },
  {
   "cell_type": "code",
   "execution_count": 734,
   "metadata": {},
   "outputs": [
    {
     "name": "stdout",
     "output_type": "stream",
     "text": [
      "{'MicroBT WhatsMiner M63S': 29569, 'Bitmain Antminer S21 Hyd (335Th)': 39801, 'MicroBT WhatsMiner M63': 32100, 'MicroBT WhatsMiner M66S': 38697, 'Bitmain Antminer S21 Pro (234Th)': 60418, 'Bitmain Antminer S21 (200Th)': 60094, 'Bitmain Antminer T21 (190Th)': 59096, 'MicroBT WhatsMiner M60S': 61998, 'Canaan Avalon A1566': 62379, 'MicroBT WhatsMiner M60': 62342, 'Bitmain Antminer S19j Pro (104Th)': 69535, 'Bitmain Antminer S19 Pro (110Th)': 65642}\n"
     ]
    }
   ],
   "source": [
    "numeric_columns = df_PV.drop(columns=columns_to_exclude).select_dtypes(include=[np.number])\n",
    "\n",
    "max_values = numeric_columns.max().to_dict()\n",
    "\n",
    "print(max_values)"
   ]
  },
  {
   "cell_type": "code",
   "execution_count": 735,
   "metadata": {},
   "outputs": [
    {
     "name": "stderr",
     "output_type": "stream",
     "text": [
      "C:\\Users\\HeldaMandlate\\AppData\\Local\\Temp\\ipykernel_33796\\3790858304.py:3: FutureWarning: \n",
      "\n",
      "Passing `palette` without assigning `hue` is deprecated and will be removed in v0.14.0. Assign the `x` variable to `hue` and set `legend=False` for the same effect.\n",
      "\n",
      "  bars = sns.barplot(x=list(max_values.keys()), y=list(max_values.values()), palette=\"viridis\")\n"
     ]
    },
    {
     "data": {
      "image/png": "[encoded data removed]",
      "text/plain": [
       "<Figure size 1200x800 with 1 Axes>"
      ]
     },
     "metadata": {},
     "output_type": "display_data"
    }
   ],
   "source": [
    "plt.figure(figsize=(12, 8))\n",
    "\n",
    "bars = sns.barplot(x=list(max_values.keys()), y=list(max_values.values()), palette=\"viridis\")\n",
    "\n",
    "plt.title('Number of Rigs for Each ASIC Model', fontsize=16)\n",
    "plt.xticks(rotation=45, ha='right')\n",
    "plt.ylabel('Number of Rigs')\n",
    "plt.xlabel('Model')\n",
    "\n",
    "plt.yticks([])\n",
    "\n",
    "for bar in bars.patches:\n",
    "    plt.text(bar.get_x() + bar.get_width() / 2, \n",
    "             bar.get_height(), \n",
    "             f'{int(bar.get_height())}',\n",
    "             ha='center', \n",
    "             va='bottom')\n",
    "\n",
    "plt.tight_layout()\n",
    "plt.show()"
   ]
  },
  {
   "cell_type": "code",
   "execution_count": 736,
   "metadata": {},
   "outputs": [],
   "source": [
    "#Save all relevant variables\n",
    "\n",
    "with open('DataAnalysisVariables.pkl', 'wb') as f:\n",
    "    pickle.dump({'NumberofRigsPerModel': max_values,\n",
    "                 'df_PV_copy': df_PV_copy,\n",
    "                 \n",
    "                 }, f)"
   ]
  }
 ],
 "metadata": {
  "kernelspec": {
   "display_name": "Python 3",
   "language": "python",
   "name": "python3"
  },
  "language_info": {
   "codemirror_mode": {
    "name": "ipython",
    "version": 3
   },
   "file_extension": ".py",
   "mimetype": "text/x-python",
   "name": "python",
   "nbconvert_exporter": "python",
   "pygments_lexer": "ipython3",
   "version": "3.12.5"
  }
 },
 "nbformat": 4,
 "nbformat_minor": 2
}
