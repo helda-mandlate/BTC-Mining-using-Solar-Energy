{
 "cells": [
  {
   "cell_type": "code",
   "execution_count": null,
   "metadata": {
    "vscode": {
     "languageId": "plaintext"
    }
   },
   "outputs": [],
   "source": [
    "df_PV.head(15)\n",
    "\n",
    "# Merge the two DataFrames on the 'date' column\n",
    "\n",
    "dict_Hashrate2 = dicts['dict_Hashrate(Th/s)']\n",
    "for column in df_PV.columns:\n",
    "    if column in dict_Hashrate2: \n",
    "        df_PV[column] = df_PV[column] * dict_Hashrate2[column]\n",
    "\n",
    "df_PV.head(15)\n",
    "\n",
    "df_new = df.copy()\n",
    "df_new['revenue per hashrate'] = df_new['revenue per hashrate']/24\n",
    "df_new.head()\n",
    "\n",
    "\n",
    "\n",
    "merged_df = df_PV.merge(df[['Date', 'revenue per hashrate']], on='Date', how='left')\n",
    "merged_df.head()\n",
    "\n",
    "\n",
    "\n",
    "# Multiply each column (excluding 'date' and 'revenue per hashrate') by 'revenue per hashrate'\n",
    "for column in merged_df.columns:\n",
    "    if column not in ['Date', 'revenue per hashrate']:\n",
    "        merged_df[column] = merged_df[column] * merged_df['revenue per hashrate']\n",
    "\n",
    "# Drop the 'revenue per hashrate' column if no longer needed\n",
    "merged_df.drop(columns=['revenue per hashrate'], inplace=True)\n",
    "\n",
    "#df2 = merged_df.dropna(subset=merged_df.columns.difference(['Date']), how='all')\n",
    "merged_df.head()\n",
    "\n",
    "merged_df[\"Date\"] = pd.to_datetime(merged_df[\"Date\"])\n",
    "\n",
    "merged_df = merged_df.groupby(\"Date\", as_index=False).sum()\n",
    "\n",
    "\n",
    "\n",
    "model_sums2 = {model: df2[model].sum() for model in dict_Hashrate2.keys()}\n",
    "\n",
    "Yearly_revenue_perModel2 = pd.DataFrame(list(model_sums2.items()), columns=['Model', 'Annual_Sum'])\n",
    "\n",
    "Yearly_revenue_perModel2.head()\n"
   ]
  }
 ],
 "metadata": {
  "language_info": {
   "name": "python"
  }
 },
 "nbformat": 4,
 "nbformat_minor": 2
}
