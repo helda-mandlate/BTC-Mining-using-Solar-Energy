{
 "cells": [
  {
   "cell_type": "markdown",
   "metadata": {},
   "source": [
    "## Data Analysis"
   ]
  },
  {
   "cell_type": "code",
   "execution_count": 1,
   "metadata": {},
   "outputs": [],
   "source": [
    "#Install Packages\n",
    "\n",
    "#!pip install openpyxl\n",
    "#!pip install pandas\n",
    "#!pip install matplotlib\n",
    "#!pip install scipy\n",
    "#!pip install simplejson\n",
    "#!pip install seaborn"
   ]
  },
  {
   "cell_type": "code",
   "execution_count": 2,
   "metadata": {},
   "outputs": [],
   "source": [
    "#Import Libraries\n",
    "\n",
    "import pandas as pd\n",
    "import numpy as np\n",
    "import matplotlib.pyplot as plt\n",
    "from scipy import interpolate\n",
    "import datetime\n",
    "import json\n",
    "import pickle\n",
    "import seaborn as sns\n",
    "import calendar"
   ]
  },
  {
   "cell_type": "markdown",
   "metadata": {},
   "source": [
    "#### Assumptions\n",
    "\n",
    "The objective is to analyse the profitability of investing in Cryptocurrency mining to make use of the excess energy produced in renewable energy."
   ]
  },
  {
   "cell_type": "code",
   "execution_count": 3,
   "metadata": {},
   "outputs": [],
   "source": [
    "# Load variables from the Global_Variables file\n",
    "\n",
    "with open('Global_Variables.pkl', 'rb') as f:\n",
    "    Global_Variables = pickle.load(f)"
   ]
  },
  {
   "cell_type": "code",
   "execution_count": 4,
   "metadata": {},
   "outputs": [],
   "source": [
    "#Assumptions from CHE Report\n",
    "\n",
    "#BTC Mining\n",
    "Basis_MW = Global_Variables['Basis_MW'] #MW\n",
    "Hardware_Eff = Global_Variables['Hardware_Eff'] #Percentage\n",
    "W_from_Renewables = Global_Variables['W_from_Renewables'] #GW\n",
    "P_from_Renewables = Global_Variables['P_from_Renewables'] #GW\n",
    "P_from_Solar = Global_Variables['P_from_Solar']\n",
    "Cooling = Global_Variables['Cooling'] #Percentage of excess energy produced by Solar Energy\n",
    "Solar_Plant_W = Global_Variables['Solar_Plant_W'] #GW\n",
    "\n",
    "#Solar Plant\n",
    "#PV_Capacity = Global_Variables['PV_Capacity'] #MW Maximum capacity\n",
    "Capital_Cost_PV = Global_Variables['Capital_Cost_PV'] #$/MW\n",
    "PV_Plant_Cost = Global_Variables['PV_Plant_Cost'] #$\n",
    "PV_plant_capacity  = Global_Variables['PV_plant_capacity'] #MW\n",
    "AC_capacity = Global_Variables['AC_capacity'] #MW Maximum capacity\n",
    "Off_peak_hours = Global_Variables['Off_peak_hours']\n",
    "Energy_Demand = Global_Variables['Energy_Demand']\n",
    "AC_capacity = Global_Variables['AC_capacity'] #MW Maximum capacity\n",
    "\n",
    "#Date of data extraction from Blockchain.com\n",
    "current_year = Global_Variables['current_year']\n",
    "last_date =  Global_Variables['last_date']\n",
    "previous_year = Global_Variables['previous_year']\n",
    "months = Global_Variables['months']\n",
    "days_in_month = Global_Variables['days_in_month']\n",
    "hours = Global_Variables['hours']"
   ]
  },
  {
   "cell_type": "markdown",
   "metadata": {},
   "source": [
    "Data Sources:\n",
    "- https://www.asicminervalue.com/\n",
    "- https://www.blockchain.com/explorer/charts/"
   ]
  },
  {
   "cell_type": "code",
   "execution_count": 5,
   "metadata": {},
   "outputs": [],
   "source": [
    "#Import Files\n",
    "\n",
    "#Data used as basis\n",
    "Solar_Data = Global_Variables['Solar_Data']\n",
    "sheet_name_SolarData = 'Postmasburg'\n",
    "skiprows = 31\n",
    "\n",
    "#Data used as basis\n",
    "Crypto_Data = Global_Variables['Crypto_Data']\n",
    "#ASIC_df = pd.read_excel(Crypto_Data, sheet_name='Bitcoin Asic_data')\n",
    "ASIC_df = Crypto_Data\n",
    "\n",
    "#Bitcoin Data\n",
    "hashrate_BTC = Global_Variables['hashrate_BTC']\n",
    "revenue_BTC = Global_Variables['revenue_BTC']\n",
    "\n",
    "#JSON file paths\n",
    "file_paths = [hashrate_BTC,revenue_BTC]"
   ]
  },
  {
   "cell_type": "code",
   "execution_count": 6,
   "metadata": {},
   "outputs": [
    {
     "name": "stdout",
     "output_type": "stream",
     "text": [
      "Start Date -> 2023-01-01 00:00:00\n",
      "End Date -> 2023-10-25 00:00:00\n"
     ]
    }
   ],
   "source": [
    "start_date = pd.to_datetime(f'{previous_year}-01-01')\n",
    "end_date = pd.to_datetime(last_date) - pd.Timedelta(days=366)\n",
    "\n",
    "print(f\"Start Date -> {start_date}\")\n",
    "print(f\"End Date -> {end_date}\")"
   ]
  },
  {
   "cell_type": "markdown",
   "metadata": {},
   "source": [
    "### PV Plant Data"
   ]
  },
  {
   "cell_type": "markdown",
   "metadata": {},
   "source": [
    "##### Data Cleaning"
   ]
  },
  {
   "cell_type": "code",
   "execution_count": 7,
   "metadata": {},
   "outputs": [],
   "source": [
    "data = []\n",
    "\n",
    "for month in months:\n",
    "    days = days_in_month[month - 1]\n",
    "    for day in range(1, days + 1):\n",
    "        for hour in hours:\n",
    "            if hour in Off_peak_hours:\n",
    "                energy_demand = 0\n",
    "            else:\n",
    "                energy_demand = Energy_Demand\n",
    "            data.append({'Day': day, 'Month': month, 'Hour': hour, 'Energy Demand (MW)': energy_demand})\n",
    "\n",
    "df_Energy_Demand = pd.DataFrame(data)\n"
   ]
  },
  {
   "cell_type": "code",
   "execution_count": 8,
   "metadata": {},
   "outputs": [
    {
     "data": {
      "text/html": [
       "<div>\n",
       "<style scoped>\n",
       "    .dataframe tbody tr th:only-of-type {\n",
       "        vertical-align: middle;\n",
       "    }\n",
       "\n",
       "    .dataframe tbody tr th {\n",
       "        vertical-align: top;\n",
       "    }\n",
       "\n",
       "    .dataframe thead th {\n",
       "        text-align: right;\n",
       "    }\n",
       "</style>\n",
       "<table border=\"1\" class=\"dataframe\">\n",
       "  <thead>\n",
       "    <tr style=\"text-align: right;\">\n",
       "      <th></th>\n",
       "      <th>Day</th>\n",
       "      <th>Month</th>\n",
       "      <th>Hour</th>\n",
       "      <th>Energy Demand (MW)</th>\n",
       "    </tr>\n",
       "  </thead>\n",
       "  <tbody>\n",
       "    <tr>\n",
       "      <th>0</th>\n",
       "      <td>1</td>\n",
       "      <td>1</td>\n",
       "      <td>0</td>\n",
       "      <td>0</td>\n",
       "    </tr>\n",
       "    <tr>\n",
       "      <th>1</th>\n",
       "      <td>1</td>\n",
       "      <td>1</td>\n",
       "      <td>1</td>\n",
       "      <td>0</td>\n",
       "    </tr>\n",
       "    <tr>\n",
       "      <th>2</th>\n",
       "      <td>1</td>\n",
       "      <td>1</td>\n",
       "      <td>2</td>\n",
       "      <td>0</td>\n",
       "    </tr>\n",
       "    <tr>\n",
       "      <th>3</th>\n",
       "      <td>1</td>\n",
       "      <td>1</td>\n",
       "      <td>3</td>\n",
       "      <td>0</td>\n",
       "    </tr>\n",
       "    <tr>\n",
       "      <th>4</th>\n",
       "      <td>1</td>\n",
       "      <td>1</td>\n",
       "      <td>4</td>\n",
       "      <td>0</td>\n",
       "    </tr>\n",
       "  </tbody>\n",
       "</table>\n",
       "</div>"
      ],
      "text/plain": [
       "   Day  Month  Hour  Energy Demand (MW)\n",
       "0    1      1     0                   0\n",
       "1    1      1     1                   0\n",
       "2    1      1     2                   0\n",
       "3    1      1     3                   0\n",
       "4    1      1     4                   0"
      ]
     },
     "execution_count": 8,
     "metadata": {},
     "output_type": "execute_result"
    }
   ],
   "source": [
    "df_Energy_Demand.head()"
   ]
  },
  {
   "cell_type": "code",
   "execution_count": 9,
   "metadata": {},
   "outputs": [
    {
     "data": {
      "text/html": [
       "<div>\n",
       "<style scoped>\n",
       "    .dataframe tbody tr th:only-of-type {\n",
       "        vertical-align: middle;\n",
       "    }\n",
       "\n",
       "    .dataframe tbody tr th {\n",
       "        vertical-align: top;\n",
       "    }\n",
       "\n",
       "    .dataframe thead th {\n",
       "        text-align: right;\n",
       "    }\n",
       "</style>\n",
       "<table border=\"1\" class=\"dataframe\">\n",
       "  <thead>\n",
       "    <tr style=\"text-align: right;\">\n",
       "      <th></th>\n",
       "      <th>Date</th>\n",
       "      <th>Day-Month</th>\n",
       "      <th>Hour</th>\n",
       "      <th>Energy Demand (MW)</th>\n",
       "    </tr>\n",
       "  </thead>\n",
       "  <tbody>\n",
       "    <tr>\n",
       "      <th>0</th>\n",
       "      <td>2024-01-01</td>\n",
       "      <td>01-01</td>\n",
       "      <td>0</td>\n",
       "      <td>0</td>\n",
       "    </tr>\n",
       "    <tr>\n",
       "      <th>1</th>\n",
       "      <td>2024-01-01</td>\n",
       "      <td>01-01</td>\n",
       "      <td>1</td>\n",
       "      <td>0</td>\n",
       "    </tr>\n",
       "    <tr>\n",
       "      <th>2</th>\n",
       "      <td>2024-01-01</td>\n",
       "      <td>01-01</td>\n",
       "      <td>2</td>\n",
       "      <td>0</td>\n",
       "    </tr>\n",
       "    <tr>\n",
       "      <th>3</th>\n",
       "      <td>2024-01-01</td>\n",
       "      <td>01-01</td>\n",
       "      <td>3</td>\n",
       "      <td>0</td>\n",
       "    </tr>\n",
       "    <tr>\n",
       "      <th>4</th>\n",
       "      <td>2024-01-01</td>\n",
       "      <td>01-01</td>\n",
       "      <td>4</td>\n",
       "      <td>0</td>\n",
       "    </tr>\n",
       "  </tbody>\n",
       "</table>\n",
       "</div>"
      ],
      "text/plain": [
       "        Date Day-Month  Hour  Energy Demand (MW)\n",
       "0 2024-01-01     01-01     0                   0\n",
       "1 2024-01-01     01-01     1                   0\n",
       "2 2024-01-01     01-01     2                   0\n",
       "3 2024-01-01     01-01     3                   0\n",
       "4 2024-01-01     01-01     4                   0"
      ]
     },
     "execution_count": 9,
     "metadata": {},
     "output_type": "execute_result"
    }
   ],
   "source": [
    "#Create new columns with full dates\n",
    "\n",
    "df_Energy_Demand['Day-Month-Year'] = pd.to_datetime(df_Energy_Demand['Day'].astype(str) + '-' + df_Energy_Demand['Month'].astype(str) + '-' + str(previous_year), \n",
    "                            format='%d-%m-%Y', errors='coerce')\n",
    "\n",
    "# Replace year with 2024 for dates within the range\n",
    "df_Energy_Demand['Day-Month-Year'] = df_Energy_Demand['Day-Month-Year'].apply(lambda x: x.replace(year=int(current_year)) if start_date <= x <= end_date else x)\n",
    "\n",
    "df_Energy_Demand['Day-Month'] = df_Energy_Demand['Day-Month-Year'].dt.strftime('%d-%m')\n",
    "\n",
    "df_Energy_Demand['Date'] = pd.to_datetime(df_Energy_Demand['Day-Month-Year'], format='%d-%B-%Y')\n",
    "df_Energy_Demand = df_Energy_Demand[['Date','Day-Month','Hour','Energy Demand (MW)']]\n",
    "\n",
    "df_Energy_Demand.head()"
   ]
  },
  {
   "cell_type": "code",
   "execution_count": 10,
   "metadata": {},
   "outputs": [
    {
     "data": {
      "text/html": [
       "<div>\n",
       "<style scoped>\n",
       "    .dataframe tbody tr th:only-of-type {\n",
       "        vertical-align: middle;\n",
       "    }\n",
       "\n",
       "    .dataframe tbody tr th {\n",
       "        vertical-align: top;\n",
       "    }\n",
       "\n",
       "    .dataframe thead th {\n",
       "        text-align: right;\n",
       "    }\n",
       "</style>\n",
       "<table border=\"1\" class=\"dataframe\">\n",
       "  <thead>\n",
       "    <tr style=\"text-align: right;\">\n",
       "      <th></th>\n",
       "      <th>Month</th>\n",
       "      <th>Day</th>\n",
       "      <th>Hour</th>\n",
       "      <th>Beam Irradiance (W/m2)</th>\n",
       "      <th>Diffuse Irradiance (W/m2)</th>\n",
       "      <th>Ambient Temperature (C)</th>\n",
       "      <th>Wind Speed (m/s)</th>\n",
       "      <th>Albedo</th>\n",
       "      <th>Plane of Array Irradiance (W/m2)</th>\n",
       "      <th>Cell Temperature (C)</th>\n",
       "      <th>DC Array Output (W)</th>\n",
       "      <th>AC System Output (W)</th>\n",
       "    </tr>\n",
       "  </thead>\n",
       "  <tbody>\n",
       "    <tr>\n",
       "      <th>0</th>\n",
       "      <td>1</td>\n",
       "      <td>1</td>\n",
       "      <td>0</td>\n",
       "      <td>0</td>\n",
       "      <td>0</td>\n",
       "      <td>20.1</td>\n",
       "      <td>2.9</td>\n",
       "      <td>0.2</td>\n",
       "      <td>0.0</td>\n",
       "      <td>20.1</td>\n",
       "      <td>0.0</td>\n",
       "      <td>0.0</td>\n",
       "    </tr>\n",
       "    <tr>\n",
       "      <th>1</th>\n",
       "      <td>1</td>\n",
       "      <td>1</td>\n",
       "      <td>1</td>\n",
       "      <td>0</td>\n",
       "      <td>0</td>\n",
       "      <td>18.7</td>\n",
       "      <td>3.0</td>\n",
       "      <td>0.2</td>\n",
       "      <td>0.0</td>\n",
       "      <td>18.7</td>\n",
       "      <td>0.0</td>\n",
       "      <td>0.0</td>\n",
       "    </tr>\n",
       "    <tr>\n",
       "      <th>2</th>\n",
       "      <td>1</td>\n",
       "      <td>1</td>\n",
       "      <td>2</td>\n",
       "      <td>0</td>\n",
       "      <td>0</td>\n",
       "      <td>19.2</td>\n",
       "      <td>1.3</td>\n",
       "      <td>0.2</td>\n",
       "      <td>0.0</td>\n",
       "      <td>19.2</td>\n",
       "      <td>0.0</td>\n",
       "      <td>0.0</td>\n",
       "    </tr>\n",
       "    <tr>\n",
       "      <th>3</th>\n",
       "      <td>1</td>\n",
       "      <td>1</td>\n",
       "      <td>3</td>\n",
       "      <td>0</td>\n",
       "      <td>0</td>\n",
       "      <td>18.5</td>\n",
       "      <td>1.1</td>\n",
       "      <td>0.2</td>\n",
       "      <td>0.0</td>\n",
       "      <td>18.5</td>\n",
       "      <td>0.0</td>\n",
       "      <td>0.0</td>\n",
       "    </tr>\n",
       "    <tr>\n",
       "      <th>4</th>\n",
       "      <td>1</td>\n",
       "      <td>1</td>\n",
       "      <td>4</td>\n",
       "      <td>0</td>\n",
       "      <td>0</td>\n",
       "      <td>18.3</td>\n",
       "      <td>1.0</td>\n",
       "      <td>0.2</td>\n",
       "      <td>0.0</td>\n",
       "      <td>18.3</td>\n",
       "      <td>0.0</td>\n",
       "      <td>0.0</td>\n",
       "    </tr>\n",
       "  </tbody>\n",
       "</table>\n",
       "</div>"
      ],
      "text/plain": [
       "   Month  Day  Hour  Beam Irradiance (W/m2)  Diffuse Irradiance (W/m2)  \\\n",
       "0      1    1     0                       0                          0   \n",
       "1      1    1     1                       0                          0   \n",
       "2      1    1     2                       0                          0   \n",
       "3      1    1     3                       0                          0   \n",
       "4      1    1     4                       0                          0   \n",
       "\n",
       "   Ambient Temperature (C)  Wind Speed (m/s)  Albedo  \\\n",
       "0                     20.1               2.9     0.2   \n",
       "1                     18.7               3.0     0.2   \n",
       "2                     19.2               1.3     0.2   \n",
       "3                     18.5               1.1     0.2   \n",
       "4                     18.3               1.0     0.2   \n",
       "\n",
       "   Plane of Array Irradiance (W/m2)  Cell Temperature (C)  \\\n",
       "0                               0.0                  20.1   \n",
       "1                               0.0                  18.7   \n",
       "2                               0.0                  19.2   \n",
       "3                               0.0                  18.5   \n",
       "4                               0.0                  18.3   \n",
       "\n",
       "   DC Array Output (W)  AC System Output (W)  \n",
       "0                  0.0                   0.0  \n",
       "1                  0.0                   0.0  \n",
       "2                  0.0                   0.0  \n",
       "3                  0.0                   0.0  \n",
       "4                  0.0                   0.0  "
      ]
     },
     "execution_count": 10,
     "metadata": {},
     "output_type": "execute_result"
    }
   ],
   "source": [
    "#Read Files with validation check\n",
    "\n",
    "df_PV = pd.read_excel(Solar_Data, sheet_name=sheet_name_SolarData, skiprows=skiprows)\n",
    "df_PV.head()\n"
   ]
  },
  {
   "cell_type": "code",
   "execution_count": 11,
   "metadata": {},
   "outputs": [
    {
     "name": "stderr",
     "output_type": "stream",
     "text": [
      "C:\\Users\\HeldaMandlate\\AppData\\Local\\Temp\\ipykernel_9940\\49855558.py:3: FutureWarning: Series.fillna with 'method' is deprecated and will raise in a future version. Use obj.ffill() or obj.bfill() instead.\n",
      "  df_PV['Month'] = df_PV['Month'].fillna(method='ffill')\n"
     ]
    }
   ],
   "source": [
    "#Clean Data\n",
    "\n",
    "df_PV['Month'] = df_PV['Month'].fillna(method='ffill')"
   ]
  },
  {
   "cell_type": "code",
   "execution_count": 12,
   "metadata": {},
   "outputs": [
    {
     "data": {
      "text/plain": [
       "[1, 2, 3, 4, 5, 6, 7, 8, 9, 10, 11, 12]"
      ]
     },
     "execution_count": 12,
     "metadata": {},
     "output_type": "execute_result"
    }
   ],
   "source": [
    "#List of all rows entries in column Month\n",
    "\n",
    "df_PV['Month'].unique().tolist()"
   ]
  },
  {
   "cell_type": "code",
   "execution_count": 13,
   "metadata": {},
   "outputs": [
    {
     "data": {
      "text/plain": [
       "Index(['Month', 'Day', 'Hour', 'Beam Irradiance (W/m2)',\n",
       "       'Diffuse Irradiance (W/m2)', 'Ambient Temperature (C)',\n",
       "       'Wind Speed (m/s)', 'Albedo', 'Plane of Array Irradiance (W/m2)',\n",
       "       'Cell Temperature (C)', 'DC Array Output (W)', 'AC System Output (W)'],\n",
       "      dtype='object')"
      ]
     },
     "execution_count": 13,
     "metadata": {},
     "output_type": "execute_result"
    }
   ],
   "source": [
    "df_PV.columns"
   ]
  },
  {
   "cell_type": "code",
   "execution_count": 14,
   "metadata": {},
   "outputs": [],
   "source": [
    "#Create new columns with full dates\n",
    "\n",
    "df_PV['Day-Month-Year'] = pd.to_datetime(df_PV['Day'].astype(str) + '-' + df_PV['Month'].astype(str) + '-' + str(previous_year), \n",
    "                            format='%d-%m-%Y', errors='coerce')\n",
    "\n",
    "df_PV['Day-Month'] = df_PV['Day-Month-Year'].dt.strftime('%d-%m')\n",
    "\n",
    "df_PV['Date'] = pd.to_datetime(df_PV['Day-Month-Year'], format='%d-%B-%Y')\n",
    "df_PV = df_PV[['Date','Day-Month','Hour','AC System Output (W)']]"
   ]
  },
  {
   "cell_type": "code",
   "execution_count": 15,
   "metadata": {},
   "outputs": [
    {
     "data": {
      "text/html": [
       "<div>\n",
       "<style scoped>\n",
       "    .dataframe tbody tr th:only-of-type {\n",
       "        vertical-align: middle;\n",
       "    }\n",
       "\n",
       "    .dataframe tbody tr th {\n",
       "        vertical-align: top;\n",
       "    }\n",
       "\n",
       "    .dataframe thead th {\n",
       "        text-align: right;\n",
       "    }\n",
       "</style>\n",
       "<table border=\"1\" class=\"dataframe\">\n",
       "  <thead>\n",
       "    <tr style=\"text-align: right;\">\n",
       "      <th></th>\n",
       "      <th>Date</th>\n",
       "      <th>Day-Month</th>\n",
       "      <th>Hour</th>\n",
       "      <th>AC System Output (W)</th>\n",
       "    </tr>\n",
       "  </thead>\n",
       "  <tbody>\n",
       "    <tr>\n",
       "      <th>0</th>\n",
       "      <td>2023-01-01</td>\n",
       "      <td>01-01</td>\n",
       "      <td>0</td>\n",
       "      <td>0.0</td>\n",
       "    </tr>\n",
       "    <tr>\n",
       "      <th>1</th>\n",
       "      <td>2023-01-01</td>\n",
       "      <td>01-01</td>\n",
       "      <td>1</td>\n",
       "      <td>0.0</td>\n",
       "    </tr>\n",
       "    <tr>\n",
       "      <th>2</th>\n",
       "      <td>2023-01-01</td>\n",
       "      <td>01-01</td>\n",
       "      <td>2</td>\n",
       "      <td>0.0</td>\n",
       "    </tr>\n",
       "    <tr>\n",
       "      <th>3</th>\n",
       "      <td>2023-01-01</td>\n",
       "      <td>01-01</td>\n",
       "      <td>3</td>\n",
       "      <td>0.0</td>\n",
       "    </tr>\n",
       "    <tr>\n",
       "      <th>4</th>\n",
       "      <td>2023-01-01</td>\n",
       "      <td>01-01</td>\n",
       "      <td>4</td>\n",
       "      <td>0.0</td>\n",
       "    </tr>\n",
       "  </tbody>\n",
       "</table>\n",
       "</div>"
      ],
      "text/plain": [
       "        Date Day-Month  Hour  AC System Output (W)\n",
       "0 2023-01-01     01-01     0                   0.0\n",
       "1 2023-01-01     01-01     1                   0.0\n",
       "2 2023-01-01     01-01     2                   0.0\n",
       "3 2023-01-01     01-01     3                   0.0\n",
       "4 2023-01-01     01-01     4                   0.0"
      ]
     },
     "execution_count": 15,
     "metadata": {},
     "output_type": "execute_result"
    }
   ],
   "source": [
    "df_PV.head()"
   ]
  },
  {
   "cell_type": "code",
   "execution_count": 16,
   "metadata": {},
   "outputs": [],
   "source": [
    "#Surplus Energy in W\n",
    "\n",
    "df_PV['AC System Output (MW)'] = df_PV['AC System Output (W)']/1000000\n",
    "df_PV['Energy Generation (MW)'] = (df_PV['AC System Output (MW)']/AC_capacity)*PV_plant_capacity\n",
    "\n",
    "df_PV['Energy for Mining (MW)'] = ((df_PV['Energy Generation (MW)'] - df_Energy_Demand['Energy Demand (MW)']) ).where(\n",
    "    ((df_PV['Energy Generation (MW)'] - df_Energy_Demand['Energy Demand (MW)']) ) > 0, 0)\n",
    "\n",
    "\n",
    "df_PV['Energy for Mining (MW)'] = df_PV['Energy for Mining (MW)']*(1-Cooling)\n",
    "\n",
    "# Replace year with 2024 for dates within the range\n",
    "df_PV['Date'] = df_PV['Date'].apply(lambda x: x.replace(year=int(current_year)) if start_date <= x <= end_date else x)\n",
    "\n",
    "relevant_columns = ['Date', 'Day-Month', 'Hour', 'Energy for Mining (MW)']\n",
    "df_PV = df_PV[relevant_columns]"
   ]
  },
  {
   "cell_type": "code",
   "execution_count": 17,
   "metadata": {},
   "outputs": [
    {
     "data": {
      "text/html": [
       "<div>\n",
       "<style scoped>\n",
       "    .dataframe tbody tr th:only-of-type {\n",
       "        vertical-align: middle;\n",
       "    }\n",
       "\n",
       "    .dataframe tbody tr th {\n",
       "        vertical-align: top;\n",
       "    }\n",
       "\n",
       "    .dataframe thead th {\n",
       "        text-align: right;\n",
       "    }\n",
       "</style>\n",
       "<table border=\"1\" class=\"dataframe\">\n",
       "  <thead>\n",
       "    <tr style=\"text-align: right;\">\n",
       "      <th></th>\n",
       "      <th>Date</th>\n",
       "      <th>Day-Month</th>\n",
       "      <th>Hour</th>\n",
       "      <th>Energy for Mining (MW)</th>\n",
       "    </tr>\n",
       "  </thead>\n",
       "  <tbody>\n",
       "    <tr>\n",
       "      <th>0</th>\n",
       "      <td>2024-01-01</td>\n",
       "      <td>01-01</td>\n",
       "      <td>0</td>\n",
       "      <td>0.0</td>\n",
       "    </tr>\n",
       "    <tr>\n",
       "      <th>1</th>\n",
       "      <td>2024-01-01</td>\n",
       "      <td>01-01</td>\n",
       "      <td>1</td>\n",
       "      <td>0.0</td>\n",
       "    </tr>\n",
       "    <tr>\n",
       "      <th>2</th>\n",
       "      <td>2024-01-01</td>\n",
       "      <td>01-01</td>\n",
       "      <td>2</td>\n",
       "      <td>0.0</td>\n",
       "    </tr>\n",
       "    <tr>\n",
       "      <th>3</th>\n",
       "      <td>2024-01-01</td>\n",
       "      <td>01-01</td>\n",
       "      <td>3</td>\n",
       "      <td>0.0</td>\n",
       "    </tr>\n",
       "    <tr>\n",
       "      <th>4</th>\n",
       "      <td>2024-01-01</td>\n",
       "      <td>01-01</td>\n",
       "      <td>4</td>\n",
       "      <td>0.0</td>\n",
       "    </tr>\n",
       "  </tbody>\n",
       "</table>\n",
       "</div>"
      ],
      "text/plain": [
       "        Date Day-Month  Hour  Energy for Mining (MW)\n",
       "0 2024-01-01     01-01     0                     0.0\n",
       "1 2024-01-01     01-01     1                     0.0\n",
       "2 2024-01-01     01-01     2                     0.0\n",
       "3 2024-01-01     01-01     3                     0.0\n",
       "4 2024-01-01     01-01     4                     0.0"
      ]
     },
     "execution_count": 17,
     "metadata": {},
     "output_type": "execute_result"
    }
   ],
   "source": [
    "df_PV.head()"
   ]
  },
  {
   "cell_type": "code",
   "execution_count": 18,
   "metadata": {},
   "outputs": [],
   "source": [
    "df_PV = pd.merge(df_PV, df_Energy_Demand, how='inner', on=['Day-Month', 'Hour'])"
   ]
  },
  {
   "cell_type": "code",
   "execution_count": 19,
   "metadata": {},
   "outputs": [
    {
     "data": {
      "text/html": [
       "<div>\n",
       "<style scoped>\n",
       "    .dataframe tbody tr th:only-of-type {\n",
       "        vertical-align: middle;\n",
       "    }\n",
       "\n",
       "    .dataframe tbody tr th {\n",
       "        vertical-align: top;\n",
       "    }\n",
       "\n",
       "    .dataframe thead th {\n",
       "        text-align: right;\n",
       "    }\n",
       "</style>\n",
       "<table border=\"1\" class=\"dataframe\">\n",
       "  <thead>\n",
       "    <tr style=\"text-align: right;\">\n",
       "      <th></th>\n",
       "      <th>Date_x</th>\n",
       "      <th>Day-Month</th>\n",
       "      <th>Hour</th>\n",
       "      <th>Energy for Mining (MW)</th>\n",
       "      <th>Date_y</th>\n",
       "      <th>Energy Demand (MW)</th>\n",
       "    </tr>\n",
       "  </thead>\n",
       "  <tbody>\n",
       "    <tr>\n",
       "      <th>0</th>\n",
       "      <td>2024-01-01</td>\n",
       "      <td>01-01</td>\n",
       "      <td>0</td>\n",
       "      <td>0.0</td>\n",
       "      <td>2024-01-01</td>\n",
       "      <td>0</td>\n",
       "    </tr>\n",
       "    <tr>\n",
       "      <th>1</th>\n",
       "      <td>2024-01-01</td>\n",
       "      <td>01-01</td>\n",
       "      <td>1</td>\n",
       "      <td>0.0</td>\n",
       "      <td>2024-01-01</td>\n",
       "      <td>0</td>\n",
       "    </tr>\n",
       "    <tr>\n",
       "      <th>2</th>\n",
       "      <td>2024-01-01</td>\n",
       "      <td>01-01</td>\n",
       "      <td>2</td>\n",
       "      <td>0.0</td>\n",
       "      <td>2024-01-01</td>\n",
       "      <td>0</td>\n",
       "    </tr>\n",
       "    <tr>\n",
       "      <th>3</th>\n",
       "      <td>2024-01-01</td>\n",
       "      <td>01-01</td>\n",
       "      <td>3</td>\n",
       "      <td>0.0</td>\n",
       "      <td>2024-01-01</td>\n",
       "      <td>0</td>\n",
       "    </tr>\n",
       "    <tr>\n",
       "      <th>4</th>\n",
       "      <td>2024-01-01</td>\n",
       "      <td>01-01</td>\n",
       "      <td>4</td>\n",
       "      <td>0.0</td>\n",
       "      <td>2024-01-01</td>\n",
       "      <td>0</td>\n",
       "    </tr>\n",
       "  </tbody>\n",
       "</table>\n",
       "</div>"
      ],
      "text/plain": [
       "      Date_x Day-Month  Hour  Energy for Mining (MW)     Date_y  \\\n",
       "0 2024-01-01     01-01     0                     0.0 2024-01-01   \n",
       "1 2024-01-01     01-01     1                     0.0 2024-01-01   \n",
       "2 2024-01-01     01-01     2                     0.0 2024-01-01   \n",
       "3 2024-01-01     01-01     3                     0.0 2024-01-01   \n",
       "4 2024-01-01     01-01     4                     0.0 2024-01-01   \n",
       "\n",
       "   Energy Demand (MW)  \n",
       "0                   0  \n",
       "1                   0  \n",
       "2                   0  \n",
       "3                   0  \n",
       "4                   0  "
      ]
     },
     "execution_count": 19,
     "metadata": {},
     "output_type": "execute_result"
    }
   ],
   "source": [
    "df_PV.head()"
   ]
  },
  {
   "cell_type": "code",
   "execution_count": 20,
   "metadata": {},
   "outputs": [
    {
     "data": {
      "text/html": [
       "<div>\n",
       "<style scoped>\n",
       "    .dataframe tbody tr th:only-of-type {\n",
       "        vertical-align: middle;\n",
       "    }\n",
       "\n",
       "    .dataframe tbody tr th {\n",
       "        vertical-align: top;\n",
       "    }\n",
       "\n",
       "    .dataframe thead th {\n",
       "        text-align: right;\n",
       "    }\n",
       "</style>\n",
       "<table border=\"1\" class=\"dataframe\">\n",
       "  <thead>\n",
       "    <tr style=\"text-align: right;\">\n",
       "      <th></th>\n",
       "      <th>Date</th>\n",
       "      <th>Hour</th>\n",
       "      <th>Energy for Mining (MW)</th>\n",
       "    </tr>\n",
       "  </thead>\n",
       "  <tbody>\n",
       "    <tr>\n",
       "      <th>0</th>\n",
       "      <td>2024-01-01</td>\n",
       "      <td>0</td>\n",
       "      <td>0.0</td>\n",
       "    </tr>\n",
       "    <tr>\n",
       "      <th>1</th>\n",
       "      <td>2024-01-01</td>\n",
       "      <td>1</td>\n",
       "      <td>0.0</td>\n",
       "    </tr>\n",
       "    <tr>\n",
       "      <th>2</th>\n",
       "      <td>2024-01-01</td>\n",
       "      <td>2</td>\n",
       "      <td>0.0</td>\n",
       "    </tr>\n",
       "    <tr>\n",
       "      <th>3</th>\n",
       "      <td>2024-01-01</td>\n",
       "      <td>3</td>\n",
       "      <td>0.0</td>\n",
       "    </tr>\n",
       "    <tr>\n",
       "      <th>4</th>\n",
       "      <td>2024-01-01</td>\n",
       "      <td>4</td>\n",
       "      <td>0.0</td>\n",
       "    </tr>\n",
       "  </tbody>\n",
       "</table>\n",
       "</div>"
      ],
      "text/plain": [
       "        Date  Hour  Energy for Mining (MW)\n",
       "0 2024-01-01     0                     0.0\n",
       "1 2024-01-01     1                     0.0\n",
       "2 2024-01-01     2                     0.0\n",
       "3 2024-01-01     3                     0.0\n",
       "4 2024-01-01     4                     0.0"
      ]
     },
     "execution_count": 20,
     "metadata": {},
     "output_type": "execute_result"
    }
   ],
   "source": [
    "df_PV['Date'] = df_PV['Date_x']\n",
    "relevant_columns = ['Date','Hour','Energy for Mining (MW)']\n",
    "df_PV = df_PV[relevant_columns]\n",
    "df_PV.head()"
   ]
  },
  {
   "cell_type": "code",
   "execution_count": 21,
   "metadata": {},
   "outputs": [
    {
     "data": {
      "image/png": "[encoded data removed]",
      "text/plain": [
       "<Figure size 1000x600 with 1 Axes>"
      ]
     },
     "metadata": {},
     "output_type": "display_data"
    }
   ],
   "source": [
    "#Hours in a day with no Energy Production\n",
    "df_zero_energy_output = df_PV[df_PV['Energy for Mining (MW)'] == 0]\n",
    "\n",
    "#Count the number of hours per day with zero energy output\n",
    "zero_hours_per_day = df_zero_energy_output.groupby('Date')['Hour'].count().reset_index()\n",
    "zero_hours_per_day.columns = ['Date', 'Zero_Hours']\n",
    "\n",
    "#Identify which hours have zero energy output for each day\n",
    "zero_hours_by_day = df_zero_energy_output.groupby('Date')['Hour'].apply(list).reset_index()\n",
    "\n",
    "#Display results: Plot bar chart for the number of zero energy output hours per day\n",
    "plt.figure(figsize=(10,6))\n",
    "plt.bar(zero_hours_per_day['Date'], zero_hours_per_day['Zero_Hours'])\n",
    "plt.xlabel('Date')\n",
    "plt.ylabel('Number of Zero Energy Output Hours')\n",
    "plt.title('Number of Zero Energy Output Hours per Day')\n",
    "plt.xticks(rotation=90)\n",
    "plt.tight_layout()\n",
    "plt.show()"
   ]
  },
  {
   "cell_type": "code",
   "execution_count": 22,
   "metadata": {},
   "outputs": [
    {
     "data": {
      "image/png": "[encoded data removed]",
      "text/plain": [
       "<Figure size 800x600 with 1 Axes>"
      ]
     },
     "metadata": {},
     "output_type": "display_data"
    }
   ],
   "source": [
    "#Boxplot for the number of zero energy consumption hours per day\n",
    "plt.figure(figsize=(8, 6))\n",
    "sns.boxplot(x=zero_hours_per_day['Zero_Hours'])\n",
    "\n",
    "plt.xlabel('Number of Zero Energy Output Hours')\n",
    "plt.title('Boxplot of Zero Energy Output Hours per Day')\n",
    "plt.show()\n"
   ]
  },
  {
   "cell_type": "code",
   "execution_count": 23,
   "metadata": {},
   "outputs": [
    {
     "name": "stderr",
     "output_type": "stream",
     "text": [
      "C:\\Users\\HeldaMandlate\\AppData\\Local\\Temp\\ipykernel_9940\\2714940888.py:7: MatplotlibDeprecationWarning: The 'labels' parameter of boxplot() has been renamed 'tick_labels' since Matplotlib 3.9; support for the old name will be dropped in 3.11.\n",
      "  plt.boxplot(monthly_data, patch_artist=True, labels=[calendar.month_name[i] for i in range(1, 13)])\n"
     ]
    },
    {
     "data": {
      "image/png": "[encoded data removed]",
      "text/plain": [
       "<Figure size 1000x600 with 1 Axes>"
      ]
     },
     "metadata": {},
     "output_type": "display_data"
    }
   ],
   "source": [
    "#Box plot per month of Energy Available for Mining, ie: Surplus Energy\n",
    "df_PV['Month'] = df_PV['Date'].dt.month\n",
    "\n",
    "monthly_data = [df_PV[df_PV['Month'] == month]['Energy for Mining (MW)'] for month in range(1, 13)]\n",
    "\n",
    "plt.figure(figsize=(10, 6))\n",
    "plt.boxplot(monthly_data, patch_artist=True, labels=[calendar.month_name[i] for i in range(1, 13)])\n",
    "\n",
    "plt.title('Box Plot of Surplus Energy per Hour by Month')\n",
    "plt.xlabel('Month')\n",
    "plt.ylabel('Energy for Mining (MW)')\n",
    "plt.grid(True)\n",
    "\n",
    "plt.show()"
   ]
  },
  {
   "cell_type": "code",
   "execution_count": 24,
   "metadata": {},
   "outputs": [
    {
     "data": {
      "image/png": "[encoded data removed]",
      "text/plain": [
       "<Figure size 640x480 with 1 Axes>"
      ]
     },
     "metadata": {},
     "output_type": "display_data"
    }
   ],
   "source": [
    "#Boxplot to view data distribution on Surplus per hour in one year\n",
    "\n",
    "plt.boxplot([df_PV['Energy for Mining (MW)']], vert=False, patch_artist=True)\n",
    "plt.title('Box Plot of Energy for Mining (MW)')\n",
    "plt.xlabel('Energy for Mining (W)')\n",
    "plt.grid(True)\n",
    "plt.show()"
   ]
  },
  {
   "cell_type": "code",
   "execution_count": 25,
   "metadata": {},
   "outputs": [
    {
     "data": {
      "text/html": [
       "<div>\n",
       "<style scoped>\n",
       "    .dataframe tbody tr th:only-of-type {\n",
       "        vertical-align: middle;\n",
       "    }\n",
       "\n",
       "    .dataframe tbody tr th {\n",
       "        vertical-align: top;\n",
       "    }\n",
       "\n",
       "    .dataframe thead th {\n",
       "        text-align: right;\n",
       "    }\n",
       "</style>\n",
       "<table border=\"1\" class=\"dataframe\">\n",
       "  <thead>\n",
       "    <tr style=\"text-align: right;\">\n",
       "      <th></th>\n",
       "      <th>Model</th>\n",
       "      <th>Release</th>\n",
       "      <th>Hashrate (Th/s)</th>\n",
       "      <th>Power (W)</th>\n",
       "      <th>Algorithm</th>\n",
       "      <th>Income ($/day)</th>\n",
       "      <th>Electricity Cost ($/day)</th>\n",
       "      <th>With Electricity</th>\n",
       "      <th>Without Electricity</th>\n",
       "      <th>Efficiency (j/Gh)</th>\n",
       "      <th>Price ($)</th>\n",
       "      <th>Noise db</th>\n",
       "      <th>Cooling</th>\n",
       "      <th>Seller</th>\n",
       "      <th>Days to Breakeven</th>\n",
       "      <th>Rig Type</th>\n",
       "    </tr>\n",
       "  </thead>\n",
       "  <tbody>\n",
       "    <tr>\n",
       "      <th>12</th>\n",
       "      <td>Core i7 950</td>\n",
       "      <td>2009</td>\n",
       "      <td>0.000019</td>\n",
       "      <td>157.50</td>\n",
       "      <td>SHA-256</td>\n",
       "      <td>NaN</td>\n",
       "      <td>NaN</td>\n",
       "      <td>NaN</td>\n",
       "      <td>NaN</td>\n",
       "      <td>NaN</td>\n",
       "      <td>70.0</td>\n",
       "      <td>NaN</td>\n",
       "      <td>None</td>\n",
       "      <td>None</td>\n",
       "      <td>NaN</td>\n",
       "      <td>CPU</td>\n",
       "    </tr>\n",
       "    <tr>\n",
       "      <th>13</th>\n",
       "      <td>Atom N450</td>\n",
       "      <td>2009</td>\n",
       "      <td>0.000100</td>\n",
       "      <td>322.58</td>\n",
       "      <td>SHA-256</td>\n",
       "      <td>NaN</td>\n",
       "      <td>NaN</td>\n",
       "      <td>NaN</td>\n",
       "      <td>NaN</td>\n",
       "      <td>NaN</td>\n",
       "      <td>15.0</td>\n",
       "      <td>NaN</td>\n",
       "      <td>None</td>\n",
       "      <td>None</td>\n",
       "      <td>NaN</td>\n",
       "      <td>CPU</td>\n",
       "    </tr>\n",
       "    <tr>\n",
       "      <th>14</th>\n",
       "      <td>ATI 4850</td>\n",
       "      <td>2010</td>\n",
       "      <td>0.000101</td>\n",
       "      <td>109.78</td>\n",
       "      <td>SHA-256</td>\n",
       "      <td>NaN</td>\n",
       "      <td>NaN</td>\n",
       "      <td>NaN</td>\n",
       "      <td>NaN</td>\n",
       "      <td>NaN</td>\n",
       "      <td>90.0</td>\n",
       "      <td>NaN</td>\n",
       "      <td>None</td>\n",
       "      <td>None</td>\n",
       "      <td>NaN</td>\n",
       "      <td>GPU</td>\n",
       "    </tr>\n",
       "    <tr>\n",
       "      <th>15</th>\n",
       "      <td>ATI 5770</td>\n",
       "      <td>2010</td>\n",
       "      <td>0.000215</td>\n",
       "      <td>110.00</td>\n",
       "      <td>SHA-256</td>\n",
       "      <td>NaN</td>\n",
       "      <td>NaN</td>\n",
       "      <td>NaN</td>\n",
       "      <td>NaN</td>\n",
       "      <td>NaN</td>\n",
       "      <td>30.0</td>\n",
       "      <td>NaN</td>\n",
       "      <td>None</td>\n",
       "      <td>None</td>\n",
       "      <td>NaN</td>\n",
       "      <td>GPU</td>\n",
       "    </tr>\n",
       "    <tr>\n",
       "      <th>16</th>\n",
       "      <td>The Single</td>\n",
       "      <td>2011</td>\n",
       "      <td>0.000832</td>\n",
       "      <td>80.00</td>\n",
       "      <td>SHA-256</td>\n",
       "      <td>NaN</td>\n",
       "      <td>NaN</td>\n",
       "      <td>NaN</td>\n",
       "      <td>NaN</td>\n",
       "      <td>NaN</td>\n",
       "      <td>795.0</td>\n",
       "      <td>NaN</td>\n",
       "      <td>None</td>\n",
       "      <td>None</td>\n",
       "      <td>NaN</td>\n",
       "      <td>FPGA</td>\n",
       "    </tr>\n",
       "  </tbody>\n",
       "</table>\n",
       "</div>"
      ],
      "text/plain": [
       "          Model Release  Hashrate (Th/s)  Power (W) Algorithm  Income ($/day)  \\\n",
       "12  Core i7 950    2009         0.000019     157.50   SHA-256             NaN   \n",
       "13    Atom N450    2009         0.000100     322.58   SHA-256             NaN   \n",
       "14     ATI 4850    2010         0.000101     109.78   SHA-256             NaN   \n",
       "15     ATI 5770    2010         0.000215     110.00   SHA-256             NaN   \n",
       "16   The Single    2011         0.000832      80.00   SHA-256             NaN   \n",
       "\n",
       "    Electricity Cost ($/day)  With Electricity  Without Electricity  \\\n",
       "12                       NaN               NaN                  NaN   \n",
       "13                       NaN               NaN                  NaN   \n",
       "14                       NaN               NaN                  NaN   \n",
       "15                       NaN               NaN                  NaN   \n",
       "16                       NaN               NaN                  NaN   \n",
       "\n",
       "    Efficiency (j/Gh)  Price ($)  Noise db Cooling Seller  Days to Breakeven  \\\n",
       "12                NaN       70.0       NaN    None   None                NaN   \n",
       "13                NaN       15.0       NaN    None   None                NaN   \n",
       "14                NaN       90.0       NaN    None   None                NaN   \n",
       "15                NaN       30.0       NaN    None   None                NaN   \n",
       "16                NaN      795.0       NaN    None   None                NaN   \n",
       "\n",
       "   Rig Type  \n",
       "12      CPU  \n",
       "13      CPU  \n",
       "14      GPU  \n",
       "15      GPU  \n",
       "16     FPGA  "
      ]
     },
     "execution_count": 25,
     "metadata": {},
     "output_type": "execute_result"
    }
   ],
   "source": [
    "ASIC_df = ASIC_df.loc[ASIC_df['Rig Type'] != 'ASIC']\n",
    "ASIC_df.head()"
   ]
  },
  {
   "cell_type": "code",
   "execution_count": 26,
   "metadata": {},
   "outputs": [
    {
     "data": {
      "text/plain": [
       "Index(['Model', 'Release', 'Hashrate (Th/s)', 'Power (W)', 'Algorithm',\n",
       "       'Income ($/day)', 'Electricity Cost ($/day)', 'With Electricity',\n",
       "       'Without Electricity', 'Efficiency (j/Gh)', 'Price ($)', 'Noise db',\n",
       "       'Cooling', 'Seller', 'Days to Breakeven', 'Rig Type'],\n",
       "      dtype='object')"
      ]
     },
     "execution_count": 26,
     "metadata": {},
     "output_type": "execute_result"
    }
   ],
   "source": [
    "ASIC_df.columns"
   ]
  },
  {
   "cell_type": "code",
   "execution_count": 27,
   "metadata": {},
   "outputs": [
    {
     "name": "stdout",
     "output_type": "stream",
     "text": [
      "dict_Release -> {'Core i7 950': '2009', 'Atom N450': '2009', 'ATI 4850': '2010', 'ATI 5770': '2010', 'The Single': '2011', 'Rig Box': '2011'}\n",
      "dict_Hashrate (Th/s) -> {'Core i7 950': 1.9e-05, 'Atom N450': 0.0001, 'ATI 4850': 0.000101, 'ATI 5770': 0.000215, 'The Single': 0.000832, 'Rig Box': 0.05}\n",
      "dict_Power (W) -> {'Core i7 950': 157.5, 'Atom N450': 322.58, 'ATI 4850': 109.78, 'ATI 5770': 110.0, 'The Single': 80.0, 'Rig Box': 2450.98}\n",
      "dict_Algorithm -> {'Core i7 950': 'SHA-256', 'Atom N450': 'SHA-256', 'ATI 4850': 'SHA-256', 'ATI 5770': 'SHA-256', 'The Single': 'SHA-256', 'Rig Box': 'SHA-256'}\n",
      "dict_Income ($/day) -> {'Core i7 950': nan, 'Atom N450': nan, 'ATI 4850': nan, 'ATI 5770': nan, 'The Single': nan, 'Rig Box': nan}\n",
      "dict_Electricity Cost ($/day) -> {'Core i7 950': nan, 'Atom N450': nan, 'ATI 4850': nan, 'ATI 5770': nan, 'The Single': nan, 'Rig Box': nan}\n",
      "dict_With Electricity -> {'Core i7 950': nan, 'Atom N450': nan, 'ATI 4850': nan, 'ATI 5770': nan, 'The Single': nan, 'Rig Box': nan}\n",
      "dict_Without Electricity -> {'Core i7 950': nan, 'Atom N450': nan, 'ATI 4850': nan, 'ATI 5770': nan, 'The Single': nan, 'Rig Box': nan}\n",
      "dict_Efficiency (j/Gh) -> {'Core i7 950': nan, 'Atom N450': nan, 'ATI 4850': nan, 'ATI 5770': nan, 'The Single': nan, 'Rig Box': nan}\n",
      "dict_Price ($) -> {'Core i7 950': 70.0, 'Atom N450': 15.0, 'ATI 4850': 90.0, 'ATI 5770': 30.0, 'The Single': 795.0, 'Rig Box': 90.0}\n",
      "dict_Noise db -> {'Core i7 950': nan, 'Atom N450': nan, 'ATI 4850': nan, 'ATI 5770': nan, 'The Single': nan, 'Rig Box': nan}\n",
      "dict_Cooling -> {'Core i7 950': None, 'Atom N450': None, 'ATI 4850': None, 'ATI 5770': None, 'The Single': None, 'Rig Box': None}\n",
      "dict_Seller -> {'Core i7 950': None, 'Atom N450': None, 'ATI 4850': None, 'ATI 5770': None, 'The Single': None, 'Rig Box': None}\n",
      "dict_Days to Breakeven -> {'Core i7 950': nan, 'Atom N450': nan, 'ATI 4850': nan, 'ATI 5770': nan, 'The Single': nan, 'Rig Box': nan}\n"
     ]
    }
   ],
   "source": [
    "#Create dictionary with ASIC data\n",
    "\n",
    "column_pairs = ['Release', 'Hashrate (Th/s)', 'Power (W)', 'Algorithm',\n",
    "       'Income ($/day)', 'Electricity Cost ($/day)', 'With Electricity',\n",
    "       'Without Electricity', 'Efficiency (j/Gh)', 'Price ($)', 'Noise db',\n",
    "       'Cooling', 'Seller', 'Days to Breakeven']\n",
    "dicts = {}\n",
    "\n",
    "for col in column_pairs:\n",
    "    dict_name = f\"dict_{col}\"\n",
    "    dicts[dict_name] = ASIC_df.set_index('Model')[col].to_dict()\n",
    "\n",
    "for name, dictionary in dicts.items():\n",
    "    print(f\"{name} -> {dictionary}\")"
   ]
  },
  {
   "cell_type": "code",
   "execution_count": 28,
   "metadata": {},
   "outputs": [
    {
     "data": {
      "text/html": [
       "<div>\n",
       "<style scoped>\n",
       "    .dataframe tbody tr th:only-of-type {\n",
       "        vertical-align: middle;\n",
       "    }\n",
       "\n",
       "    .dataframe tbody tr th {\n",
       "        vertical-align: top;\n",
       "    }\n",
       "\n",
       "    .dataframe thead th {\n",
       "        text-align: right;\n",
       "    }\n",
       "</style>\n",
       "<table border=\"1\" class=\"dataframe\">\n",
       "  <thead>\n",
       "    <tr style=\"text-align: right;\">\n",
       "      <th></th>\n",
       "      <th>Date</th>\n",
       "      <th>Hour</th>\n",
       "      <th>Energy for Mining (MW)</th>\n",
       "      <th>Month</th>\n",
       "      <th>Core i7 950</th>\n",
       "      <th>Atom N450</th>\n",
       "      <th>ATI 4850</th>\n",
       "      <th>ATI 5770</th>\n",
       "      <th>The Single</th>\n",
       "      <th>Rig Box</th>\n",
       "    </tr>\n",
       "  </thead>\n",
       "  <tbody>\n",
       "    <tr>\n",
       "      <th>0</th>\n",
       "      <td>2024-01-01</td>\n",
       "      <td>0</td>\n",
       "      <td>0.0</td>\n",
       "      <td>1</td>\n",
       "      <td>0</td>\n",
       "      <td>0</td>\n",
       "      <td>0</td>\n",
       "      <td>0</td>\n",
       "      <td>0</td>\n",
       "      <td>0</td>\n",
       "    </tr>\n",
       "    <tr>\n",
       "      <th>1</th>\n",
       "      <td>2024-01-01</td>\n",
       "      <td>1</td>\n",
       "      <td>0.0</td>\n",
       "      <td>1</td>\n",
       "      <td>0</td>\n",
       "      <td>0</td>\n",
       "      <td>0</td>\n",
       "      <td>0</td>\n",
       "      <td>0</td>\n",
       "      <td>0</td>\n",
       "    </tr>\n",
       "    <tr>\n",
       "      <th>2</th>\n",
       "      <td>2024-01-01</td>\n",
       "      <td>2</td>\n",
       "      <td>0.0</td>\n",
       "      <td>1</td>\n",
       "      <td>0</td>\n",
       "      <td>0</td>\n",
       "      <td>0</td>\n",
       "      <td>0</td>\n",
       "      <td>0</td>\n",
       "      <td>0</td>\n",
       "    </tr>\n",
       "    <tr>\n",
       "      <th>3</th>\n",
       "      <td>2024-01-01</td>\n",
       "      <td>3</td>\n",
       "      <td>0.0</td>\n",
       "      <td>1</td>\n",
       "      <td>0</td>\n",
       "      <td>0</td>\n",
       "      <td>0</td>\n",
       "      <td>0</td>\n",
       "      <td>0</td>\n",
       "      <td>0</td>\n",
       "    </tr>\n",
       "    <tr>\n",
       "      <th>4</th>\n",
       "      <td>2024-01-01</td>\n",
       "      <td>4</td>\n",
       "      <td>0.0</td>\n",
       "      <td>1</td>\n",
       "      <td>0</td>\n",
       "      <td>0</td>\n",
       "      <td>0</td>\n",
       "      <td>0</td>\n",
       "      <td>0</td>\n",
       "      <td>0</td>\n",
       "    </tr>\n",
       "  </tbody>\n",
       "</table>\n",
       "</div>"
      ],
      "text/plain": [
       "        Date  Hour  Energy for Mining (MW)  Month  Core i7 950  Atom N450  \\\n",
       "0 2024-01-01     0                     0.0      1            0          0   \n",
       "1 2024-01-01     1                     0.0      1            0          0   \n",
       "2 2024-01-01     2                     0.0      1            0          0   \n",
       "3 2024-01-01     3                     0.0      1            0          0   \n",
       "4 2024-01-01     4                     0.0      1            0          0   \n",
       "\n",
       "   ATI 4850  ATI 5770  The Single  Rig Box  \n",
       "0         0         0           0        0  \n",
       "1         0         0           0        0  \n",
       "2         0         0           0        0  \n",
       "3         0         0           0        0  \n",
       "4         0         0           0        0  "
      ]
     },
     "execution_count": 28,
     "metadata": {},
     "output_type": "execute_result"
    }
   ],
   "source": [
    "# Number of Rigs per Model\n",
    "for model, power_ in dicts['dict_Power (W)'].items():\n",
    "    df_PV[model] = (df_PV['Energy for Mining (MW)']*1000000 / power_).round().astype(int)\n",
    "\n",
    "df_PV.head()\n"
   ]
  },
  {
   "cell_type": "code",
   "execution_count": 29,
   "metadata": {},
   "outputs": [
    {
     "data": {
      "text/plain": [
       "Index(['Date', 'Hour', 'Energy for Mining (MW)', 'Month', 'Core i7 950',\n",
       "       'Atom N450', 'ATI 4850', 'ATI 5770', 'The Single', 'Rig Box'],\n",
       "      dtype='object')"
      ]
     },
     "execution_count": 29,
     "metadata": {},
     "output_type": "execute_result"
    }
   ],
   "source": [
    "df_PV.columns"
   ]
  },
  {
   "cell_type": "code",
   "execution_count": 30,
   "metadata": {},
   "outputs": [],
   "source": [
    "columns_to_exclude = ['Date', 'Hour', 'Energy for Mining (MW)', 'Month',\n",
    "       #'MicroBT WhatsMiner M63S',\n",
    "       #'Bitmain Antminer S21 Hyd (335Th)', 'MicroBT WhatsMiner M63',\n",
    "       #'MicroBT WhatsMiner M66S', 'Bitmain Antminer S21 Pro (234Th)',\n",
    "       #'Bitmain Antminer S21 (200Th)', 'Bitmain Antminer T21 (190Th)',\n",
    "       #'MicroBT WhatsMiner M60S', 'Canaan Avalon A1566',\n",
    "       #'MicroBT WhatsMiner M60', 'Bitmain Antminer S19j Pro (104Th)',\n",
    "       #'Bitmain Antminer S19 Pro (110Th)'\n",
    "       ]"
   ]
  },
  {
   "cell_type": "code",
   "execution_count": 31,
   "metadata": {},
   "outputs": [
    {
     "data": {
      "image/png": "[encoded data removed]",
      "text/plain": [
       "<Figure size 1200x800 with 1 Axes>"
      ]
     },
     "metadata": {},
     "output_type": "display_data"
    }
   ],
   "source": [
    "plt.figure(figsize=(12, 8))\n",
    "\n",
    "columns_to_plot = df_PV.columns.difference(columns_to_exclude)\n",
    "\n",
    "sns.boxplot(data=df_PV[columns_to_plot])\n",
    "\n",
    "plt.title('Distribution of Number of Rigs for Each Rig Type Model', fontsize=16)\n",
    "plt.ylabel('Number of Rigs')\n",
    "\n",
    "plt.tight_layout()\n",
    "plt.xticks(rotation=45, ha='right')\n",
    "plt.show()"
   ]
  },
  {
   "cell_type": "code",
   "execution_count": 32,
   "metadata": {},
   "outputs": [
    {
     "name": "stdout",
     "output_type": "stream",
     "text": [
      "{'Core i7 950': 1354497, 'Atom N450': 661335, 'ATI 4850': 1943281, 'ATI 5770': 1939394, 'The Single': 2666667, 'Rig Box': 87040}\n"
     ]
    }
   ],
   "source": [
    "numeric_columns = df_PV.drop(columns=columns_to_exclude).select_dtypes(include=[np.number])\n",
    "\n",
    "max_values = numeric_columns.max().to_dict()\n",
    "\n",
    "print(max_values)"
   ]
  },
  {
   "cell_type": "code",
   "execution_count": 33,
   "metadata": {},
   "outputs": [],
   "source": [
    "def plot_max_values_with_groups(max_values, model_groups=None, title=\"Number of Rigs per Rig Type Model\"):\n",
    "\n",
    "    # Define color palette and map for grouped models\n",
    "    color_palette = ['skyblue', 'orange', 'green', 'purple', 'blue', 'pink']\n",
    "    color_map = {}\n",
    "    \n",
    "    if model_groups:\n",
    "        for idx, (group, models) in enumerate(model_groups.items()):\n",
    "            for model in models:\n",
    "                color_map[model] = color_palette[idx % len(color_palette)]\n",
    "                \n",
    "    # Assign colors for each model in max_values, using grey if not in any group\n",
    "    colors = [color_map.get(model, 'grey') for model in max_values.keys()]\n",
    "\n",
    "    # Plot\n",
    "    plt.figure(figsize=(12, 8))\n",
    "    bars = sns.barplot(x=list(max_values.keys()), y=list(max_values.values()), palette=colors)\n",
    "\n",
    "    # Set plot title, labels, and ticks\n",
    "    plt.title(title, fontsize=16)\n",
    "    plt.xticks(rotation=45, ha='right')\n",
    "    plt.ylabel('Maximum Number of Rigs')\n",
    "    plt.xlabel('Rig Type Model')\n",
    "    plt.yticks([])\n",
    "\n",
    "    # Annotate each bar with its height value\n",
    "    for bar in bars.patches:\n",
    "        plt.text(\n",
    "            bar.get_x() + bar.get_width() / 2, \n",
    "            bar.get_height(), \n",
    "            f'{int(bar.get_height())}',\n",
    "            ha='center', \n",
    "            va='bottom'\n",
    "        )\n",
    "\n",
    "    plt.tight_layout()\n",
    "    \n",
    "    plt.show()\n",
    "\n"
   ]
  },
  {
   "cell_type": "code",
   "execution_count": 34,
   "metadata": {},
   "outputs": [
    {
     "name": "stderr",
     "output_type": "stream",
     "text": [
      "C:\\Users\\HeldaMandlate\\AppData\\Local\\Temp\\ipykernel_9940\\1516703295.py:17: FutureWarning: \n",
      "\n",
      "Passing `palette` without assigning `hue` is deprecated and will be removed in v0.14.0. Assign the `x` variable to `hue` and set `legend=False` for the same effect.\n",
      "\n",
      "  bars = sns.barplot(x=list(max_values.keys()), y=list(max_values.values()), palette=colors)\n"
     ]
    },
    {
     "data": {
      "image/png": "[encoded data removed]",
      "text/plain": [
       "<Figure size 1200x800 with 1 Axes>"
      ]
     },
     "metadata": {},
     "output_type": "display_data"
    }
   ],
   "source": [
    "\n",
    "max_values = max_values\n",
    "model_groups = {\n",
    "    \"Group1\": [\"Atom N450\", \"Core i7 950\"],\n",
    "    \"Group2\": [\"ATI 5770\", \"ATI 4850\"],\n",
    "    \"Group3\": [\"Rig Box\", \"The Single\"]\n",
    "}\n",
    "\n",
    "plot_max_values_with_groups(max_values, model_groups=model_groups)\n"
   ]
  },
  {
   "cell_type": "code",
   "execution_count": 35,
   "metadata": {},
   "outputs": [],
   "source": [
    "#Save all relevant variables\n",
    "\n",
    "with open('RT_DataAnalysisVariables.pkl', 'wb') as f:\n",
    "    pickle.dump({'NumberofRigsPerModel': max_values,\n",
    "                 \n",
    "                 }, f)"
   ]
  }
 ],
 "metadata": {
  "kernelspec": {
   "display_name": "Python 3",
   "language": "python",
   "name": "python3"
  },
  "language_info": {
   "codemirror_mode": {
    "name": "ipython",
    "version": 3
   },
   "file_extension": ".py",
   "mimetype": "text/x-python",
   "name": "python",
   "nbconvert_exporter": "python",
   "pygments_lexer": "ipython3",
   "version": "3.12.5"
  }
 },
 "nbformat": 4,
 "nbformat_minor": 2
}
